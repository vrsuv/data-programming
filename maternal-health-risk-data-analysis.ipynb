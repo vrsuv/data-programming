{
 "cells": [
  {
   "cell_type": "markdown",
   "id": "2a501d0c",
   "metadata": {},
   "source": [
    "# 1 Introduction"
   ]
  },
  {
   "cell_type": "markdown",
   "id": "7c103586",
   "metadata": {},
   "source": [
    "Maternal health risk: Analysing vital signs' measurements of pregnant women and identify the factor that contributes significantly to maternal health issues or mortalities."
   ]
  },
  {
   "cell_type": "markdown",
   "id": "f32b0672",
   "metadata": {},
   "source": [
    "### 1.1 Background\n",
    "\n",
    "The wellbeing of a pregnant woman is as important as the welfare of an infant. Proper maternal health is crucial not only to the infant, but also to the childbearing woman. A failure to maintain good maternal health will put both the infant and the mother at risk during pregnancy. As much as the maternal mortality rates have improved over the decades, it is still alarmingly high. There was global maternal mortality ratio of 152 deaths per 100,000 live births in 2020 [1]. Hence, it is important to improve a mother's health during pregnancy. To better understand the causes of maternal health problems, I will be analysing the different vital signs of a mother during her pregnancy for this project."
   ]
  },
  {
   "cell_type": "markdown",
   "id": "8ac2cf81",
   "metadata": {},
   "source": [
    "### 1.2 Aims and objectives\n",
    "\n",
    "For this project, I aim to examine and deduce the main causes of complications in maternal health. I will do this by analysing pregnant women's health conditions such as systolic and diastolic blood pressure, blood glucose level, body temperature, and heart rate, including the ages at which they were pregnant. I aim to analyse the above mentioned vital signs in the following ways:\n",
    " - Breakdown of vital sign measurements among pregnant women.\n",
    " - Frequency of the high, mid, and low health risk levels among pregnant women.\n",
    " - Relationship between age of pregnancy and maternal health risk levels.\n",
    " - Relationship between respective health conditions and maternal health risk levels.\n",
    "\n",
    "I intend to obtain and explore these patterns through the collection of relavant data, modifying and rearranging of chosen dataset and exploratory analysis of prepared data."
   ]
  },
  {
   "cell_type": "markdown",
   "id": "90994dcc",
   "metadata": {},
   "source": [
    "# 2 Data collection"
   ]
  },
  {
   "cell_type": "markdown",
   "id": "df2d251e",
   "metadata": {},
   "source": [
    "### 2.1 Origin of data\n",
    "\n",
    "The data I have acquired for this project is a dataset of 1014 women's vital signs during the course of their pregnancies. These data were collected from different hospitals, community clinics and maternal health cares in Dhaka, Bangladesh [2]. These vital signs' values were then used to predict the risk level of the childbearing woman's health through the IoT based risk monitoring system.\n",
    "\n",
    "Source of dataset:\n",
    "Charlotte. (2021, December). Maternal Health Risk Data, Version 1. Retrieved June 12, 2022 from https://www.kaggle.com/datasets/csafrit2/maternal-health-risk-data\n",
    "\n",
    "Despite the clear arrangement of the dataset retreived from the source, I would be modifying it by cleaning and preparing the dataset to make it more convenient to work on."
   ]
  },
  {
   "cell_type": "markdown",
   "id": "7e54b7ff",
   "metadata": {},
   "source": [
    "### 2.2 Data appropriacy\n",
    "\n",
    "I have chosen this dataset to answer my research question of which health condition serves as a dominating factor of maternal health risks.\n",
    "\n",
    "This dataset provided the systolic and diastolic blood pressures, blood glucose levels, body temperatures, and heart rates of pregnant women during their respective pregnancies. These vital signs' measurements were then used to predict the women's maternal health risk levels through the IoT based risk monitoring system. \n",
    "\n",
    "This is especially appropriate for my project as an exploratory analysis on this dataset would highlight the relationship between each health condition and the risk levels of pregnant women's health. This evaluation will then help in drawing a conclusion on which health condition affects maternal health the most. \n",
    "\n",
    "In addition, the dataset acquired is in the CSV format, suitable for numerical data that represents each vital sign values. Data results are arranged such that each row is a pregnant woman's vital sign measurements and each column shows the respective health conditions monitored from the mothers.\n",
    "\n",
    "Due to it's relevancy and arrangement, the chosen dataset is appropriate in enquiring my research question for this project."
   ]
  },
  {
   "cell_type": "markdown",
   "id": "ad16869e",
   "metadata": {},
   "source": [
    "### 2.3 Alternative datasets\n",
    "\n",
    "In the process of acquiring a suitable dataset to answer my research question, I came across several other related datasets. I examined two other datasets relevant to the research question. One of which was a collection of physical, social, lifestyle, stress level and health outcomes of 450 pregnant women in Mumbai [3]. The other dataset was the vital signs measurements of 1041 pregnant women from the UK across 2012 to 2017 [4]. \n",
    "\n",
    "Both these datasets had a wide range of data to allow a more accurate analysis. Both datasets targeted the health of pregnant women and monitored their vital signs during their respective pregnancies. However, my research question is very focused on the risk levels on maternal health that can be caused by fluctuations in these vital signs. The above mentioned datasets did not provide with sufficient information to predict risk levels on maternal health. Hence, they were not suitable for me to carry out an exploratory analysis and draw conclusions on which health condition can be the controlling indicator of maternal health risks."
   ]
  },
  {
   "cell_type": "markdown",
   "id": "bb61af7b",
   "metadata": {},
   "source": [
    "# 3 Project background"
   ]
  },
  {
   "cell_type": "markdown",
   "id": "a096ed28",
   "metadata": {},
   "source": [
    "### 3.1 Field of interest\n",
    "I have chosen to explore the area of maternal health for this project because the wellbeing of childbearing women is often neglected. Maternal health is largely believed to be the health of the fetus or the complications of bearing children. However, many fail to realise that it also encompasses the physical and health changes the mother goes through during her pregnancy. For instance, the heartbeat and breathing rate of a woman would be faster during her pregnancy [5]. Hence, I have crafted the question of which health condition serves as a major reason for health risks before, during or after childbirth for childbearing mothers.\n",
    "\n",
    "As much as maternal health conditions are explored and analysed to reduce the maternal mortality rates, there is limited awareness on the welfare of mothers. More research and monitoring of vital signs of mothers during pregnancy should be carried out in order to better analyse and prevent maternal health risks and mortalities. "
   ]
  },
  {
   "cell_type": "markdown",
   "id": "0b8d3b35",
   "metadata": {},
   "source": [
    "### 3.2 Scope of project\n",
    "For this project, I will use the chosen dataset to answer my research question of which vital sign is the main cause of complications in maternal health. There are various factors that cause maternal injuries or mortalities. However, I will not be examining all of them such as social indicators or pre-existing medical illnesses to analyse risks in maternal health. I will be focusing on the measurements of vital signs during pregnancy and draw out the main vital sign that causes a high risk in maternal health. \n",
    "\n",
    "The following outlines my analysis for this project:\n",
    "1. Firstly, I will carry out my analysis on vital sign measurements of pregnant women. Based on my chosen dataset, I will highlight the trends in blood pressures, blood glucose levels, body temperatures and heartrates of the pregnant women.\n",
    "2. Secondly, I intend to draw insights from the proportion of pregnant women in this dataset with low, mid and high health risks.\n",
    "3. Thirdly, I intend to compare the age of pregnancies with the risk levels to examine if age plays a role in the maternal health risk.\n",
    "4. Finally, I will find the relationships between the vital sign measurements and risk levels on maternal health. A direct proportion between vital sign measurements and risk levels would indicate that the vital sign plays a significant role in complicating maternal health.\n",
    "\n",
    "The following describes how I will go about conducting the above mentioned analysis and fulfill my aims and objectives.\n",
    "\n",
    "I will firstly modify the chosen dataset in the following ways: \n",
    " - The dataset will be rearranged in ascending order of the sample women's age. \n",
    " - The data type in the 'risk levels' column will be changed from the existing string format to integers. \n",
    " - The values of body temperatures will be converted from fahrenheit to celsius as well.\n",
    " - The headers in dataset will be modified to add respective units beside it.\n",
    "\n",
    "Secondly, I will explore the dataset in the following ways:\n",
    " - Most common ages and vital sign measurements among sample women.\n",
    " - Top 5 results in each column.\n",
    " - Bottom 5 results in each column.\n",
    "\n",
    "Lastly, I will conduct exploratory data analysis through the seaborn and matplotlib.pyplot libraries on the following aspects:\n",
    " - Most common risk levels of maternal health.\n",
    " - Relationship between age and maternal health risk level.\n",
    " - Relationship between systolic BP and maternal health risk level.\n",
    " - Relationship between diastolic BP and maternal health risk level.\n",
    " - Relationship between blood glucose level and maternal health risk level.\n",
    " - Relationship between body temperature and maternal health risk level.\n",
    " - Relationship between heart rate and maternal health risk level."
   ]
  },
  {
   "cell_type": "markdown",
   "id": "c4f53192",
   "metadata": {},
   "source": [
    "# 4. Dataset exploration"
   ]
  },
  {
   "cell_type": "markdown",
   "id": "263c32ba",
   "metadata": {},
   "source": [
    "## 4.1 Reprocessing dataset"
   ]
  },
  {
   "cell_type": "markdown",
   "id": "037f63ab",
   "metadata": {},
   "source": [
    "Importing relevant libraries and modules for the course of this report:"
   ]
  },
  {
   "cell_type": "code",
   "execution_count": 101,
   "id": "6e73d631",
   "metadata": {},
   "outputs": [],
   "source": [
    "# Import libraries\n",
    "\n",
    "import pandas as pd\n",
    "import numpy as np\n",
    "\n",
    "import matplotlib.pyplot as plt\n",
    "import seaborn as sns\n",
    "\n",
    "import csv"
   ]
  },
  {
   "cell_type": "markdown",
   "id": "e6c28e51",
   "metadata": {},
   "source": [
    "Firstly, I will take the dataset which is in the form of a csv file and load it to a dataframe named as 'df_og' here. I am also setting the float values in the dataset to 2 decimal places for a more standardised numerical representation.\n",
    "\n",
    "I have used the pandas library here since it allows data to be imported from various file formats into a dataframe. In this case, I have used read_csv() method."
   ]
  },
  {
   "cell_type": "code",
   "execution_count": 102,
   "id": "760d2093",
   "metadata": {
    "scrolled": false
   },
   "outputs": [
    {
     "data": {
      "text/html": [
       "<div>\n",
       "<style scoped>\n",
       "    .dataframe tbody tr th:only-of-type {\n",
       "        vertical-align: middle;\n",
       "    }\n",
       "\n",
       "    .dataframe tbody tr th {\n",
       "        vertical-align: top;\n",
       "    }\n",
       "\n",
       "    .dataframe thead th {\n",
       "        text-align: right;\n",
       "    }\n",
       "</style>\n",
       "<table border=\"1\" class=\"dataframe\">\n",
       "  <thead>\n",
       "    <tr style=\"text-align: right;\">\n",
       "      <th></th>\n",
       "      <th>Age</th>\n",
       "      <th>SystolicBP</th>\n",
       "      <th>DiastolicBP</th>\n",
       "      <th>BS</th>\n",
       "      <th>BodyTemp</th>\n",
       "      <th>HeartRate</th>\n",
       "      <th>RiskLevel</th>\n",
       "    </tr>\n",
       "  </thead>\n",
       "  <tbody>\n",
       "    <tr>\n",
       "      <th>0</th>\n",
       "      <td>25</td>\n",
       "      <td>130</td>\n",
       "      <td>80</td>\n",
       "      <td>15.00</td>\n",
       "      <td>98.00</td>\n",
       "      <td>86</td>\n",
       "      <td>high risk</td>\n",
       "    </tr>\n",
       "    <tr>\n",
       "      <th>1</th>\n",
       "      <td>35</td>\n",
       "      <td>140</td>\n",
       "      <td>90</td>\n",
       "      <td>13.00</td>\n",
       "      <td>98.00</td>\n",
       "      <td>70</td>\n",
       "      <td>high risk</td>\n",
       "    </tr>\n",
       "    <tr>\n",
       "      <th>2</th>\n",
       "      <td>29</td>\n",
       "      <td>90</td>\n",
       "      <td>70</td>\n",
       "      <td>8.00</td>\n",
       "      <td>100.00</td>\n",
       "      <td>80</td>\n",
       "      <td>high risk</td>\n",
       "    </tr>\n",
       "    <tr>\n",
       "      <th>3</th>\n",
       "      <td>30</td>\n",
       "      <td>140</td>\n",
       "      <td>85</td>\n",
       "      <td>7.00</td>\n",
       "      <td>98.00</td>\n",
       "      <td>70</td>\n",
       "      <td>high risk</td>\n",
       "    </tr>\n",
       "    <tr>\n",
       "      <th>4</th>\n",
       "      <td>35</td>\n",
       "      <td>120</td>\n",
       "      <td>60</td>\n",
       "      <td>6.10</td>\n",
       "      <td>98.00</td>\n",
       "      <td>76</td>\n",
       "      <td>low risk</td>\n",
       "    </tr>\n",
       "    <tr>\n",
       "      <th>...</th>\n",
       "      <td>...</td>\n",
       "      <td>...</td>\n",
       "      <td>...</td>\n",
       "      <td>...</td>\n",
       "      <td>...</td>\n",
       "      <td>...</td>\n",
       "      <td>...</td>\n",
       "    </tr>\n",
       "    <tr>\n",
       "      <th>1009</th>\n",
       "      <td>22</td>\n",
       "      <td>120</td>\n",
       "      <td>60</td>\n",
       "      <td>15.00</td>\n",
       "      <td>98.00</td>\n",
       "      <td>80</td>\n",
       "      <td>high risk</td>\n",
       "    </tr>\n",
       "    <tr>\n",
       "      <th>1010</th>\n",
       "      <td>55</td>\n",
       "      <td>120</td>\n",
       "      <td>90</td>\n",
       "      <td>18.00</td>\n",
       "      <td>98.00</td>\n",
       "      <td>60</td>\n",
       "      <td>high risk</td>\n",
       "    </tr>\n",
       "    <tr>\n",
       "      <th>1011</th>\n",
       "      <td>35</td>\n",
       "      <td>85</td>\n",
       "      <td>60</td>\n",
       "      <td>19.00</td>\n",
       "      <td>98.00</td>\n",
       "      <td>86</td>\n",
       "      <td>high risk</td>\n",
       "    </tr>\n",
       "    <tr>\n",
       "      <th>1012</th>\n",
       "      <td>43</td>\n",
       "      <td>120</td>\n",
       "      <td>90</td>\n",
       "      <td>18.00</td>\n",
       "      <td>98.00</td>\n",
       "      <td>70</td>\n",
       "      <td>high risk</td>\n",
       "    </tr>\n",
       "    <tr>\n",
       "      <th>1013</th>\n",
       "      <td>32</td>\n",
       "      <td>120</td>\n",
       "      <td>65</td>\n",
       "      <td>6.00</td>\n",
       "      <td>101.00</td>\n",
       "      <td>76</td>\n",
       "      <td>mid risk</td>\n",
       "    </tr>\n",
       "  </tbody>\n",
       "</table>\n",
       "<p>1014 rows × 7 columns</p>\n",
       "</div>"
      ],
      "text/plain": [
       "      Age  SystolicBP  DiastolicBP    BS  BodyTemp  HeartRate  RiskLevel\n",
       "0      25         130           80 15.00     98.00         86  high risk\n",
       "1      35         140           90 13.00     98.00         70  high risk\n",
       "2      29          90           70  8.00    100.00         80  high risk\n",
       "3      30         140           85  7.00     98.00         70  high risk\n",
       "4      35         120           60  6.10     98.00         76   low risk\n",
       "...   ...         ...          ...   ...       ...        ...        ...\n",
       "1009   22         120           60 15.00     98.00         80  high risk\n",
       "1010   55         120           90 18.00     98.00         60  high risk\n",
       "1011   35          85           60 19.00     98.00         86  high risk\n",
       "1012   43         120           90 18.00     98.00         70  high risk\n",
       "1013   32         120           65  6.00    101.00         76   mid risk\n",
       "\n",
       "[1014 rows x 7 columns]"
      ]
     },
     "execution_count": 102,
     "metadata": {},
     "output_type": "execute_result"
    }
   ],
   "source": [
    "df_og = pd.read_csv('Maternal_Health_Risk_Data_Set.csv')\n",
    "pd.options.display.float_format = \"{:,.2f}\".format\n",
    "df_og"
   ]
  },
  {
   "cell_type": "markdown",
   "id": "e4b9ede2",
   "metadata": {},
   "source": [
    "I will then take the df_og and modify it by rearranging the dataset. I am organising it in ascending order of the sample women's age. This is to sort the dataset and make it more structured. I named the newly arranged file as 'df'.\n",
    "\n",
    "Here I have used the sort_values() rather than the sort_index() method in the pandas library since I am arranging the values in the 'Age' column."
   ]
  },
  {
   "cell_type": "code",
   "execution_count": 103,
   "id": "1f69b737",
   "metadata": {
    "scrolled": false
   },
   "outputs": [
    {
     "data": {
      "text/html": [
       "<div>\n",
       "<style scoped>\n",
       "    .dataframe tbody tr th:only-of-type {\n",
       "        vertical-align: middle;\n",
       "    }\n",
       "\n",
       "    .dataframe tbody tr th {\n",
       "        vertical-align: top;\n",
       "    }\n",
       "\n",
       "    .dataframe thead th {\n",
       "        text-align: right;\n",
       "    }\n",
       "</style>\n",
       "<table border=\"1\" class=\"dataframe\">\n",
       "  <thead>\n",
       "    <tr style=\"text-align: right;\">\n",
       "      <th></th>\n",
       "      <th>Age</th>\n",
       "      <th>SystolicBP</th>\n",
       "      <th>DiastolicBP</th>\n",
       "      <th>BS</th>\n",
       "      <th>BodyTemp</th>\n",
       "      <th>HeartRate</th>\n",
       "      <th>RiskLevel</th>\n",
       "    </tr>\n",
       "  </thead>\n",
       "  <tbody>\n",
       "    <tr>\n",
       "      <th>849</th>\n",
       "      <td>10</td>\n",
       "      <td>100</td>\n",
       "      <td>50</td>\n",
       "      <td>6.00</td>\n",
       "      <td>99.00</td>\n",
       "      <td>70</td>\n",
       "      <td>mid risk</td>\n",
       "    </tr>\n",
       "    <tr>\n",
       "      <th>19</th>\n",
       "      <td>10</td>\n",
       "      <td>70</td>\n",
       "      <td>50</td>\n",
       "      <td>6.90</td>\n",
       "      <td>98.00</td>\n",
       "      <td>70</td>\n",
       "      <td>low risk</td>\n",
       "    </tr>\n",
       "    <tr>\n",
       "      <th>670</th>\n",
       "      <td>10</td>\n",
       "      <td>100</td>\n",
       "      <td>50</td>\n",
       "      <td>6.00</td>\n",
       "      <td>99.00</td>\n",
       "      <td>70</td>\n",
       "      <td>mid risk</td>\n",
       "    </tr>\n",
       "    <tr>\n",
       "      <th>250</th>\n",
       "      <td>10</td>\n",
       "      <td>85</td>\n",
       "      <td>65</td>\n",
       "      <td>6.90</td>\n",
       "      <td>98.00</td>\n",
       "      <td>70</td>\n",
       "      <td>low risk</td>\n",
       "    </tr>\n",
       "    <tr>\n",
       "      <th>588</th>\n",
       "      <td>12</td>\n",
       "      <td>90</td>\n",
       "      <td>60</td>\n",
       "      <td>7.50</td>\n",
       "      <td>102.00</td>\n",
       "      <td>66</td>\n",
       "      <td>mid risk</td>\n",
       "    </tr>\n",
       "    <tr>\n",
       "      <th>...</th>\n",
       "      <td>...</td>\n",
       "      <td>...</td>\n",
       "      <td>...</td>\n",
       "      <td>...</td>\n",
       "      <td>...</td>\n",
       "      <td>...</td>\n",
       "      <td>...</td>\n",
       "    </tr>\n",
       "    <tr>\n",
       "      <th>435</th>\n",
       "      <td>65</td>\n",
       "      <td>130</td>\n",
       "      <td>80</td>\n",
       "      <td>15.00</td>\n",
       "      <td>98.00</td>\n",
       "      <td>86</td>\n",
       "      <td>high risk</td>\n",
       "    </tr>\n",
       "    <tr>\n",
       "      <th>339</th>\n",
       "      <td>65</td>\n",
       "      <td>120</td>\n",
       "      <td>90</td>\n",
       "      <td>6.90</td>\n",
       "      <td>103.00</td>\n",
       "      <td>76</td>\n",
       "      <td>low risk</td>\n",
       "    </tr>\n",
       "    <tr>\n",
       "      <th>322</th>\n",
       "      <td>65</td>\n",
       "      <td>90</td>\n",
       "      <td>60</td>\n",
       "      <td>6.90</td>\n",
       "      <td>98.00</td>\n",
       "      <td>70</td>\n",
       "      <td>low risk</td>\n",
       "    </tr>\n",
       "    <tr>\n",
       "      <th>326</th>\n",
       "      <td>66</td>\n",
       "      <td>85</td>\n",
       "      <td>60</td>\n",
       "      <td>6.90</td>\n",
       "      <td>98.00</td>\n",
       "      <td>86</td>\n",
       "      <td>low risk</td>\n",
       "    </tr>\n",
       "    <tr>\n",
       "      <th>338</th>\n",
       "      <td>70</td>\n",
       "      <td>85</td>\n",
       "      <td>60</td>\n",
       "      <td>6.90</td>\n",
       "      <td>102.00</td>\n",
       "      <td>70</td>\n",
       "      <td>low risk</td>\n",
       "    </tr>\n",
       "  </tbody>\n",
       "</table>\n",
       "<p>1014 rows × 7 columns</p>\n",
       "</div>"
      ],
      "text/plain": [
       "     Age  SystolicBP  DiastolicBP    BS  BodyTemp  HeartRate  RiskLevel\n",
       "849   10         100           50  6.00     99.00         70   mid risk\n",
       "19    10          70           50  6.90     98.00         70   low risk\n",
       "670   10         100           50  6.00     99.00         70   mid risk\n",
       "250   10          85           65  6.90     98.00         70   low risk\n",
       "588   12          90           60  7.50    102.00         66   mid risk\n",
       "..   ...         ...          ...   ...       ...        ...        ...\n",
       "435   65         130           80 15.00     98.00         86  high risk\n",
       "339   65         120           90  6.90    103.00         76   low risk\n",
       "322   65          90           60  6.90     98.00         70   low risk\n",
       "326   66          85           60  6.90     98.00         86   low risk\n",
       "338   70          85           60  6.90    102.00         70   low risk\n",
       "\n",
       "[1014 rows x 7 columns]"
      ]
     },
     "execution_count": 103,
     "metadata": {},
     "output_type": "execute_result"
    }
   ],
   "source": [
    "df = df_og.sort_values(by=['Age'], ascending=True)\n",
    "df"
   ]
  },
  {
   "cell_type": "markdown",
   "id": "6b0ed11c",
   "metadata": {},
   "source": [
    "The second modification shown below is to convert the 'RiskLevel' column data type from strings to integers. As seen in the table above, the results are stored in terms of the intensity of risks on maternal health. I will replace the data such that 'high risk' would be 3, 'mid risk' would be 2, and 'low risk' would be 1. This conversion of data type is to allow for a more uniformed dataset which prevents any errors in plotting of graphs and comparisons."
   ]
  },
  {
   "cell_type": "code",
   "execution_count": 104,
   "id": "6c4b93e0",
   "metadata": {},
   "outputs": [
    {
     "data": {
      "text/html": [
       "<div>\n",
       "<style scoped>\n",
       "    .dataframe tbody tr th:only-of-type {\n",
       "        vertical-align: middle;\n",
       "    }\n",
       "\n",
       "    .dataframe tbody tr th {\n",
       "        vertical-align: top;\n",
       "    }\n",
       "\n",
       "    .dataframe thead th {\n",
       "        text-align: right;\n",
       "    }\n",
       "</style>\n",
       "<table border=\"1\" class=\"dataframe\">\n",
       "  <thead>\n",
       "    <tr style=\"text-align: right;\">\n",
       "      <th></th>\n",
       "      <th>Age</th>\n",
       "      <th>SystolicBP</th>\n",
       "      <th>DiastolicBP</th>\n",
       "      <th>BS</th>\n",
       "      <th>BodyTemp</th>\n",
       "      <th>HeartRate</th>\n",
       "      <th>RiskLevel</th>\n",
       "    </tr>\n",
       "  </thead>\n",
       "  <tbody>\n",
       "    <tr>\n",
       "      <th>849</th>\n",
       "      <td>10</td>\n",
       "      <td>100</td>\n",
       "      <td>50</td>\n",
       "      <td>6.00</td>\n",
       "      <td>99.00</td>\n",
       "      <td>70</td>\n",
       "      <td>2</td>\n",
       "    </tr>\n",
       "    <tr>\n",
       "      <th>19</th>\n",
       "      <td>10</td>\n",
       "      <td>70</td>\n",
       "      <td>50</td>\n",
       "      <td>6.90</td>\n",
       "      <td>98.00</td>\n",
       "      <td>70</td>\n",
       "      <td>1</td>\n",
       "    </tr>\n",
       "    <tr>\n",
       "      <th>670</th>\n",
       "      <td>10</td>\n",
       "      <td>100</td>\n",
       "      <td>50</td>\n",
       "      <td>6.00</td>\n",
       "      <td>99.00</td>\n",
       "      <td>70</td>\n",
       "      <td>2</td>\n",
       "    </tr>\n",
       "    <tr>\n",
       "      <th>250</th>\n",
       "      <td>10</td>\n",
       "      <td>85</td>\n",
       "      <td>65</td>\n",
       "      <td>6.90</td>\n",
       "      <td>98.00</td>\n",
       "      <td>70</td>\n",
       "      <td>1</td>\n",
       "    </tr>\n",
       "    <tr>\n",
       "      <th>588</th>\n",
       "      <td>12</td>\n",
       "      <td>90</td>\n",
       "      <td>60</td>\n",
       "      <td>7.50</td>\n",
       "      <td>102.00</td>\n",
       "      <td>66</td>\n",
       "      <td>2</td>\n",
       "    </tr>\n",
       "    <tr>\n",
       "      <th>...</th>\n",
       "      <td>...</td>\n",
       "      <td>...</td>\n",
       "      <td>...</td>\n",
       "      <td>...</td>\n",
       "      <td>...</td>\n",
       "      <td>...</td>\n",
       "      <td>...</td>\n",
       "    </tr>\n",
       "    <tr>\n",
       "      <th>435</th>\n",
       "      <td>65</td>\n",
       "      <td>130</td>\n",
       "      <td>80</td>\n",
       "      <td>15.00</td>\n",
       "      <td>98.00</td>\n",
       "      <td>86</td>\n",
       "      <td>3</td>\n",
       "    </tr>\n",
       "    <tr>\n",
       "      <th>339</th>\n",
       "      <td>65</td>\n",
       "      <td>120</td>\n",
       "      <td>90</td>\n",
       "      <td>6.90</td>\n",
       "      <td>103.00</td>\n",
       "      <td>76</td>\n",
       "      <td>1</td>\n",
       "    </tr>\n",
       "    <tr>\n",
       "      <th>322</th>\n",
       "      <td>65</td>\n",
       "      <td>90</td>\n",
       "      <td>60</td>\n",
       "      <td>6.90</td>\n",
       "      <td>98.00</td>\n",
       "      <td>70</td>\n",
       "      <td>1</td>\n",
       "    </tr>\n",
       "    <tr>\n",
       "      <th>326</th>\n",
       "      <td>66</td>\n",
       "      <td>85</td>\n",
       "      <td>60</td>\n",
       "      <td>6.90</td>\n",
       "      <td>98.00</td>\n",
       "      <td>86</td>\n",
       "      <td>1</td>\n",
       "    </tr>\n",
       "    <tr>\n",
       "      <th>338</th>\n",
       "      <td>70</td>\n",
       "      <td>85</td>\n",
       "      <td>60</td>\n",
       "      <td>6.90</td>\n",
       "      <td>102.00</td>\n",
       "      <td>70</td>\n",
       "      <td>1</td>\n",
       "    </tr>\n",
       "  </tbody>\n",
       "</table>\n",
       "<p>1014 rows × 7 columns</p>\n",
       "</div>"
      ],
      "text/plain": [
       "     Age  SystolicBP  DiastolicBP    BS  BodyTemp  HeartRate  RiskLevel\n",
       "849   10         100           50  6.00     99.00         70          2\n",
       "19    10          70           50  6.90     98.00         70          1\n",
       "670   10         100           50  6.00     99.00         70          2\n",
       "250   10          85           65  6.90     98.00         70          1\n",
       "588   12          90           60  7.50    102.00         66          2\n",
       "..   ...         ...          ...   ...       ...        ...        ...\n",
       "435   65         130           80 15.00     98.00         86          3\n",
       "339   65         120           90  6.90    103.00         76          1\n",
       "322   65          90           60  6.90     98.00         70          1\n",
       "326   66          85           60  6.90     98.00         86          1\n",
       "338   70          85           60  6.90    102.00         70          1\n",
       "\n",
       "[1014 rows x 7 columns]"
      ]
     },
     "execution_count": 104,
     "metadata": {},
     "output_type": "execute_result"
    }
   ],
   "source": [
    "df = df.replace(['high risk'], 3)\n",
    "df = df.replace(['mid risk'], 2)\n",
    "df = df.replace(['low risk'], 1)\n",
    "df"
   ]
  },
  {
   "cell_type": "markdown",
   "id": "8dda0593",
   "metadata": {},
   "source": [
    "With the replacement of risk levels to its corresponding integers, the data type of the 'RiskLevel' column is now int64 as seen below."
   ]
  },
  {
   "cell_type": "code",
   "execution_count": 105,
   "id": "755df7fd",
   "metadata": {},
   "outputs": [
    {
     "data": {
      "text/plain": [
       "Age              int64\n",
       "SystolicBP       int64\n",
       "DiastolicBP      int64\n",
       "BS             float64\n",
       "BodyTemp       float64\n",
       "HeartRate        int64\n",
       "RiskLevel        int64\n",
       "dtype: object"
      ]
     },
     "execution_count": 105,
     "metadata": {},
     "output_type": "execute_result"
    }
   ],
   "source": [
    "df.dtypes"
   ]
  },
  {
   "cell_type": "markdown",
   "id": "ba640595",
   "metadata": {},
   "source": [
    "The next modification would be to convert the 'BodyTemp' values from Fahrenheit to Celsius. I am doing this conversion as Celsius is widely used globally and I am more familiar with this unit of temperature, hence allowing for a more deeper understanding of the analysis.\n",
    "\n",
    "The convertion from Fahrenheit to Celsius is through a formula of Celsius = (Fahrenheit - 32) * (5/9). Using this formula, the values in the 'BodyTemp' column is updated to the Celsius conversion. This can be seen in the code below."
   ]
  },
  {
   "cell_type": "code",
   "execution_count": 106,
   "id": "ab01616b",
   "metadata": {
    "scrolled": false
   },
   "outputs": [
    {
     "data": {
      "text/html": [
       "<div>\n",
       "<style scoped>\n",
       "    .dataframe tbody tr th:only-of-type {\n",
       "        vertical-align: middle;\n",
       "    }\n",
       "\n",
       "    .dataframe tbody tr th {\n",
       "        vertical-align: top;\n",
       "    }\n",
       "\n",
       "    .dataframe thead th {\n",
       "        text-align: right;\n",
       "    }\n",
       "</style>\n",
       "<table border=\"1\" class=\"dataframe\">\n",
       "  <thead>\n",
       "    <tr style=\"text-align: right;\">\n",
       "      <th></th>\n",
       "      <th>Age</th>\n",
       "      <th>SystolicBP</th>\n",
       "      <th>DiastolicBP</th>\n",
       "      <th>BS</th>\n",
       "      <th>BodyTemp</th>\n",
       "      <th>HeartRate</th>\n",
       "      <th>RiskLevel</th>\n",
       "    </tr>\n",
       "  </thead>\n",
       "  <tbody>\n",
       "    <tr>\n",
       "      <th>849</th>\n",
       "      <td>10</td>\n",
       "      <td>100</td>\n",
       "      <td>50</td>\n",
       "      <td>6.00</td>\n",
       "      <td>37.22</td>\n",
       "      <td>70</td>\n",
       "      <td>2</td>\n",
       "    </tr>\n",
       "    <tr>\n",
       "      <th>19</th>\n",
       "      <td>10</td>\n",
       "      <td>70</td>\n",
       "      <td>50</td>\n",
       "      <td>6.90</td>\n",
       "      <td>36.67</td>\n",
       "      <td>70</td>\n",
       "      <td>1</td>\n",
       "    </tr>\n",
       "    <tr>\n",
       "      <th>670</th>\n",
       "      <td>10</td>\n",
       "      <td>100</td>\n",
       "      <td>50</td>\n",
       "      <td>6.00</td>\n",
       "      <td>37.22</td>\n",
       "      <td>70</td>\n",
       "      <td>2</td>\n",
       "    </tr>\n",
       "    <tr>\n",
       "      <th>250</th>\n",
       "      <td>10</td>\n",
       "      <td>85</td>\n",
       "      <td>65</td>\n",
       "      <td>6.90</td>\n",
       "      <td>36.67</td>\n",
       "      <td>70</td>\n",
       "      <td>1</td>\n",
       "    </tr>\n",
       "    <tr>\n",
       "      <th>588</th>\n",
       "      <td>12</td>\n",
       "      <td>90</td>\n",
       "      <td>60</td>\n",
       "      <td>7.50</td>\n",
       "      <td>38.89</td>\n",
       "      <td>66</td>\n",
       "      <td>2</td>\n",
       "    </tr>\n",
       "    <tr>\n",
       "      <th>...</th>\n",
       "      <td>...</td>\n",
       "      <td>...</td>\n",
       "      <td>...</td>\n",
       "      <td>...</td>\n",
       "      <td>...</td>\n",
       "      <td>...</td>\n",
       "      <td>...</td>\n",
       "    </tr>\n",
       "    <tr>\n",
       "      <th>435</th>\n",
       "      <td>65</td>\n",
       "      <td>130</td>\n",
       "      <td>80</td>\n",
       "      <td>15.00</td>\n",
       "      <td>36.67</td>\n",
       "      <td>86</td>\n",
       "      <td>3</td>\n",
       "    </tr>\n",
       "    <tr>\n",
       "      <th>339</th>\n",
       "      <td>65</td>\n",
       "      <td>120</td>\n",
       "      <td>90</td>\n",
       "      <td>6.90</td>\n",
       "      <td>39.44</td>\n",
       "      <td>76</td>\n",
       "      <td>1</td>\n",
       "    </tr>\n",
       "    <tr>\n",
       "      <th>322</th>\n",
       "      <td>65</td>\n",
       "      <td>90</td>\n",
       "      <td>60</td>\n",
       "      <td>6.90</td>\n",
       "      <td>36.67</td>\n",
       "      <td>70</td>\n",
       "      <td>1</td>\n",
       "    </tr>\n",
       "    <tr>\n",
       "      <th>326</th>\n",
       "      <td>66</td>\n",
       "      <td>85</td>\n",
       "      <td>60</td>\n",
       "      <td>6.90</td>\n",
       "      <td>36.67</td>\n",
       "      <td>86</td>\n",
       "      <td>1</td>\n",
       "    </tr>\n",
       "    <tr>\n",
       "      <th>338</th>\n",
       "      <td>70</td>\n",
       "      <td>85</td>\n",
       "      <td>60</td>\n",
       "      <td>6.90</td>\n",
       "      <td>38.89</td>\n",
       "      <td>70</td>\n",
       "      <td>1</td>\n",
       "    </tr>\n",
       "  </tbody>\n",
       "</table>\n",
       "<p>1014 rows × 7 columns</p>\n",
       "</div>"
      ],
      "text/plain": [
       "     Age  SystolicBP  DiastolicBP    BS  BodyTemp  HeartRate  RiskLevel\n",
       "849   10         100           50  6.00     37.22         70          2\n",
       "19    10          70           50  6.90     36.67         70          1\n",
       "670   10         100           50  6.00     37.22         70          2\n",
       "250   10          85           65  6.90     36.67         70          1\n",
       "588   12          90           60  7.50     38.89         66          2\n",
       "..   ...         ...          ...   ...       ...        ...        ...\n",
       "435   65         130           80 15.00     36.67         86          3\n",
       "339   65         120           90  6.90     39.44         76          1\n",
       "322   65          90           60  6.90     36.67         70          1\n",
       "326   66          85           60  6.90     36.67         86          1\n",
       "338   70          85           60  6.90     38.89         70          1\n",
       "\n",
       "[1014 rows x 7 columns]"
      ]
     },
     "execution_count": 106,
     "metadata": {},
     "output_type": "execute_result"
    }
   ],
   "source": [
    "df['BodyTemp'] = (df['BodyTemp'] - 32) * (5/9)\n",
    "df"
   ]
  },
  {
   "cell_type": "markdown",
   "id": "b193fb28",
   "metadata": {},
   "source": [
    "The final modification would be to add units to each vital sign column header. I will do this by using the rename() function and adding the respective units. I am doing this modification as it will be more convenient when observing the graphs and visual representations made later in this report. With the unit of each vital sign next to it, quicker interpretations can be made."
   ]
  },
  {
   "cell_type": "code",
   "execution_count": 107,
   "id": "35d5d281",
   "metadata": {},
   "outputs": [
    {
     "data": {
      "text/html": [
       "<div>\n",
       "<style scoped>\n",
       "    .dataframe tbody tr th:only-of-type {\n",
       "        vertical-align: middle;\n",
       "    }\n",
       "\n",
       "    .dataframe tbody tr th {\n",
       "        vertical-align: top;\n",
       "    }\n",
       "\n",
       "    .dataframe thead th {\n",
       "        text-align: right;\n",
       "    }\n",
       "</style>\n",
       "<table border=\"1\" class=\"dataframe\">\n",
       "  <thead>\n",
       "    <tr style=\"text-align: right;\">\n",
       "      <th></th>\n",
       "      <th>Age</th>\n",
       "      <th>SystolicBP(mmHg)</th>\n",
       "      <th>DiastolicBP(mmHg)</th>\n",
       "      <th>BS(mmol/L)</th>\n",
       "      <th>BodyTemp(°C)</th>\n",
       "      <th>HeartRate(bpm)</th>\n",
       "      <th>RiskLevel</th>\n",
       "    </tr>\n",
       "  </thead>\n",
       "  <tbody>\n",
       "    <tr>\n",
       "      <th>849</th>\n",
       "      <td>10</td>\n",
       "      <td>100</td>\n",
       "      <td>50</td>\n",
       "      <td>6.00</td>\n",
       "      <td>37.22</td>\n",
       "      <td>70</td>\n",
       "      <td>2</td>\n",
       "    </tr>\n",
       "    <tr>\n",
       "      <th>19</th>\n",
       "      <td>10</td>\n",
       "      <td>70</td>\n",
       "      <td>50</td>\n",
       "      <td>6.90</td>\n",
       "      <td>36.67</td>\n",
       "      <td>70</td>\n",
       "      <td>1</td>\n",
       "    </tr>\n",
       "    <tr>\n",
       "      <th>670</th>\n",
       "      <td>10</td>\n",
       "      <td>100</td>\n",
       "      <td>50</td>\n",
       "      <td>6.00</td>\n",
       "      <td>37.22</td>\n",
       "      <td>70</td>\n",
       "      <td>2</td>\n",
       "    </tr>\n",
       "    <tr>\n",
       "      <th>250</th>\n",
       "      <td>10</td>\n",
       "      <td>85</td>\n",
       "      <td>65</td>\n",
       "      <td>6.90</td>\n",
       "      <td>36.67</td>\n",
       "      <td>70</td>\n",
       "      <td>1</td>\n",
       "    </tr>\n",
       "    <tr>\n",
       "      <th>588</th>\n",
       "      <td>12</td>\n",
       "      <td>90</td>\n",
       "      <td>60</td>\n",
       "      <td>7.50</td>\n",
       "      <td>38.89</td>\n",
       "      <td>66</td>\n",
       "      <td>2</td>\n",
       "    </tr>\n",
       "    <tr>\n",
       "      <th>...</th>\n",
       "      <td>...</td>\n",
       "      <td>...</td>\n",
       "      <td>...</td>\n",
       "      <td>...</td>\n",
       "      <td>...</td>\n",
       "      <td>...</td>\n",
       "      <td>...</td>\n",
       "    </tr>\n",
       "    <tr>\n",
       "      <th>435</th>\n",
       "      <td>65</td>\n",
       "      <td>130</td>\n",
       "      <td>80</td>\n",
       "      <td>15.00</td>\n",
       "      <td>36.67</td>\n",
       "      <td>86</td>\n",
       "      <td>3</td>\n",
       "    </tr>\n",
       "    <tr>\n",
       "      <th>339</th>\n",
       "      <td>65</td>\n",
       "      <td>120</td>\n",
       "      <td>90</td>\n",
       "      <td>6.90</td>\n",
       "      <td>39.44</td>\n",
       "      <td>76</td>\n",
       "      <td>1</td>\n",
       "    </tr>\n",
       "    <tr>\n",
       "      <th>322</th>\n",
       "      <td>65</td>\n",
       "      <td>90</td>\n",
       "      <td>60</td>\n",
       "      <td>6.90</td>\n",
       "      <td>36.67</td>\n",
       "      <td>70</td>\n",
       "      <td>1</td>\n",
       "    </tr>\n",
       "    <tr>\n",
       "      <th>326</th>\n",
       "      <td>66</td>\n",
       "      <td>85</td>\n",
       "      <td>60</td>\n",
       "      <td>6.90</td>\n",
       "      <td>36.67</td>\n",
       "      <td>86</td>\n",
       "      <td>1</td>\n",
       "    </tr>\n",
       "    <tr>\n",
       "      <th>338</th>\n",
       "      <td>70</td>\n",
       "      <td>85</td>\n",
       "      <td>60</td>\n",
       "      <td>6.90</td>\n",
       "      <td>38.89</td>\n",
       "      <td>70</td>\n",
       "      <td>1</td>\n",
       "    </tr>\n",
       "  </tbody>\n",
       "</table>\n",
       "<p>1014 rows × 7 columns</p>\n",
       "</div>"
      ],
      "text/plain": [
       "     Age  SystolicBP(mmHg)  DiastolicBP(mmHg)  BS(mmol/L)  BodyTemp(°C)  \\\n",
       "849   10               100                 50        6.00         37.22   \n",
       "19    10                70                 50        6.90         36.67   \n",
       "670   10               100                 50        6.00         37.22   \n",
       "250   10                85                 65        6.90         36.67   \n",
       "588   12                90                 60        7.50         38.89   \n",
       "..   ...               ...                ...         ...           ...   \n",
       "435   65               130                 80       15.00         36.67   \n",
       "339   65               120                 90        6.90         39.44   \n",
       "322   65                90                 60        6.90         36.67   \n",
       "326   66                85                 60        6.90         36.67   \n",
       "338   70                85                 60        6.90         38.89   \n",
       "\n",
       "     HeartRate(bpm)  RiskLevel  \n",
       "849              70          2  \n",
       "19               70          1  \n",
       "670              70          2  \n",
       "250              70          1  \n",
       "588              66          2  \n",
       "..              ...        ...  \n",
       "435              86          3  \n",
       "339              76          1  \n",
       "322              70          1  \n",
       "326              86          1  \n",
       "338              70          1  \n",
       "\n",
       "[1014 rows x 7 columns]"
      ]
     },
     "execution_count": 107,
     "metadata": {},
     "output_type": "execute_result"
    }
   ],
   "source": [
    "df.rename({'SystolicBP': 'SystolicBP(mmHg)',\n",
    "          'DiastolicBP': 'DiastolicBP(mmHg)',\n",
    "          'BS': 'BS(mmol/L)',\n",
    "          'BodyTemp': 'BodyTemp(°C)',\n",
    "          'HeartRate': 'HeartRate(bpm)'}, axis=1, inplace=True)\n",
    "df"
   ]
  },
  {
   "cell_type": "markdown",
   "id": "4dded9cc",
   "metadata": {},
   "source": [
    "\n",
    "After modifying the dataset, I will now clean the modified dataset to ensure all errors and arrangements are addressed systematically. "
   ]
  },
  {
   "cell_type": "markdown",
   "id": "756a7a26",
   "metadata": {},
   "source": [
    "## 4.2 Cleaning dataset"
   ]
  },
  {
   "cell_type": "markdown",
   "id": "623bde35",
   "metadata": {},
   "source": [
    "Firstly, I will reset the index of entries starting from 0. This will prevent errors in compiling data."
   ]
  },
  {
   "cell_type": "code",
   "execution_count": 108,
   "id": "767b39a6",
   "metadata": {},
   "outputs": [
    {
     "data": {
      "text/html": [
       "<div>\n",
       "<style scoped>\n",
       "    .dataframe tbody tr th:only-of-type {\n",
       "        vertical-align: middle;\n",
       "    }\n",
       "\n",
       "    .dataframe tbody tr th {\n",
       "        vertical-align: top;\n",
       "    }\n",
       "\n",
       "    .dataframe thead th {\n",
       "        text-align: right;\n",
       "    }\n",
       "</style>\n",
       "<table border=\"1\" class=\"dataframe\">\n",
       "  <thead>\n",
       "    <tr style=\"text-align: right;\">\n",
       "      <th></th>\n",
       "      <th>Age</th>\n",
       "      <th>SystolicBP(mmHg)</th>\n",
       "      <th>DiastolicBP(mmHg)</th>\n",
       "      <th>BS(mmol/L)</th>\n",
       "      <th>BodyTemp(°C)</th>\n",
       "      <th>HeartRate(bpm)</th>\n",
       "      <th>RiskLevel</th>\n",
       "    </tr>\n",
       "  </thead>\n",
       "  <tbody>\n",
       "    <tr>\n",
       "      <th>0</th>\n",
       "      <td>10</td>\n",
       "      <td>100</td>\n",
       "      <td>50</td>\n",
       "      <td>6.00</td>\n",
       "      <td>37.22</td>\n",
       "      <td>70</td>\n",
       "      <td>2</td>\n",
       "    </tr>\n",
       "    <tr>\n",
       "      <th>1</th>\n",
       "      <td>10</td>\n",
       "      <td>70</td>\n",
       "      <td>50</td>\n",
       "      <td>6.90</td>\n",
       "      <td>36.67</td>\n",
       "      <td>70</td>\n",
       "      <td>1</td>\n",
       "    </tr>\n",
       "    <tr>\n",
       "      <th>2</th>\n",
       "      <td>10</td>\n",
       "      <td>100</td>\n",
       "      <td>50</td>\n",
       "      <td>6.00</td>\n",
       "      <td>37.22</td>\n",
       "      <td>70</td>\n",
       "      <td>2</td>\n",
       "    </tr>\n",
       "    <tr>\n",
       "      <th>3</th>\n",
       "      <td>10</td>\n",
       "      <td>85</td>\n",
       "      <td>65</td>\n",
       "      <td>6.90</td>\n",
       "      <td>36.67</td>\n",
       "      <td>70</td>\n",
       "      <td>1</td>\n",
       "    </tr>\n",
       "    <tr>\n",
       "      <th>4</th>\n",
       "      <td>12</td>\n",
       "      <td>90</td>\n",
       "      <td>60</td>\n",
       "      <td>7.50</td>\n",
       "      <td>38.89</td>\n",
       "      <td>66</td>\n",
       "      <td>2</td>\n",
       "    </tr>\n",
       "    <tr>\n",
       "      <th>...</th>\n",
       "      <td>...</td>\n",
       "      <td>...</td>\n",
       "      <td>...</td>\n",
       "      <td>...</td>\n",
       "      <td>...</td>\n",
       "      <td>...</td>\n",
       "      <td>...</td>\n",
       "    </tr>\n",
       "    <tr>\n",
       "      <th>1009</th>\n",
       "      <td>65</td>\n",
       "      <td>130</td>\n",
       "      <td>80</td>\n",
       "      <td>15.00</td>\n",
       "      <td>36.67</td>\n",
       "      <td>86</td>\n",
       "      <td>3</td>\n",
       "    </tr>\n",
       "    <tr>\n",
       "      <th>1010</th>\n",
       "      <td>65</td>\n",
       "      <td>120</td>\n",
       "      <td>90</td>\n",
       "      <td>6.90</td>\n",
       "      <td>39.44</td>\n",
       "      <td>76</td>\n",
       "      <td>1</td>\n",
       "    </tr>\n",
       "    <tr>\n",
       "      <th>1011</th>\n",
       "      <td>65</td>\n",
       "      <td>90</td>\n",
       "      <td>60</td>\n",
       "      <td>6.90</td>\n",
       "      <td>36.67</td>\n",
       "      <td>70</td>\n",
       "      <td>1</td>\n",
       "    </tr>\n",
       "    <tr>\n",
       "      <th>1012</th>\n",
       "      <td>66</td>\n",
       "      <td>85</td>\n",
       "      <td>60</td>\n",
       "      <td>6.90</td>\n",
       "      <td>36.67</td>\n",
       "      <td>86</td>\n",
       "      <td>1</td>\n",
       "    </tr>\n",
       "    <tr>\n",
       "      <th>1013</th>\n",
       "      <td>70</td>\n",
       "      <td>85</td>\n",
       "      <td>60</td>\n",
       "      <td>6.90</td>\n",
       "      <td>38.89</td>\n",
       "      <td>70</td>\n",
       "      <td>1</td>\n",
       "    </tr>\n",
       "  </tbody>\n",
       "</table>\n",
       "<p>1014 rows × 7 columns</p>\n",
       "</div>"
      ],
      "text/plain": [
       "      Age  SystolicBP(mmHg)  DiastolicBP(mmHg)  BS(mmol/L)  BodyTemp(°C)  \\\n",
       "0      10               100                 50        6.00         37.22   \n",
       "1      10                70                 50        6.90         36.67   \n",
       "2      10               100                 50        6.00         37.22   \n",
       "3      10                85                 65        6.90         36.67   \n",
       "4      12                90                 60        7.50         38.89   \n",
       "...   ...               ...                ...         ...           ...   \n",
       "1009   65               130                 80       15.00         36.67   \n",
       "1010   65               120                 90        6.90         39.44   \n",
       "1011   65                90                 60        6.90         36.67   \n",
       "1012   66                85                 60        6.90         36.67   \n",
       "1013   70                85                 60        6.90         38.89   \n",
       "\n",
       "      HeartRate(bpm)  RiskLevel  \n",
       "0                 70          2  \n",
       "1                 70          1  \n",
       "2                 70          2  \n",
       "3                 70          1  \n",
       "4                 66          2  \n",
       "...              ...        ...  \n",
       "1009              86          3  \n",
       "1010              76          1  \n",
       "1011              70          1  \n",
       "1012              86          1  \n",
       "1013              70          1  \n",
       "\n",
       "[1014 rows x 7 columns]"
      ]
     },
     "execution_count": 108,
     "metadata": {},
     "output_type": "execute_result"
    }
   ],
   "source": [
    "df = df.reset_index(drop=True)\n",
    "df"
   ]
  },
  {
   "cell_type": "markdown",
   "id": "a3a5b8b2",
   "metadata": {},
   "source": [
    "Next, I will check for missing values in the csv file. Any missing values in the dataset can result in inaccuracy in the analysis or a biased conclusion may be drawn. The following command df.isnull() will display the dataset with each value showing 'False' if value is present or 'True' if value is not present. "
   ]
  },
  {
   "cell_type": "code",
   "execution_count": 109,
   "id": "b414a595",
   "metadata": {
    "scrolled": false
   },
   "outputs": [
    {
     "data": {
      "text/html": [
       "<div>\n",
       "<style scoped>\n",
       "    .dataframe tbody tr th:only-of-type {\n",
       "        vertical-align: middle;\n",
       "    }\n",
       "\n",
       "    .dataframe tbody tr th {\n",
       "        vertical-align: top;\n",
       "    }\n",
       "\n",
       "    .dataframe thead th {\n",
       "        text-align: right;\n",
       "    }\n",
       "</style>\n",
       "<table border=\"1\" class=\"dataframe\">\n",
       "  <thead>\n",
       "    <tr style=\"text-align: right;\">\n",
       "      <th></th>\n",
       "      <th>Age</th>\n",
       "      <th>SystolicBP(mmHg)</th>\n",
       "      <th>DiastolicBP(mmHg)</th>\n",
       "      <th>BS(mmol/L)</th>\n",
       "      <th>BodyTemp(°C)</th>\n",
       "      <th>HeartRate(bpm)</th>\n",
       "      <th>RiskLevel</th>\n",
       "    </tr>\n",
       "  </thead>\n",
       "  <tbody>\n",
       "    <tr>\n",
       "      <th>0</th>\n",
       "      <td>False</td>\n",
       "      <td>False</td>\n",
       "      <td>False</td>\n",
       "      <td>False</td>\n",
       "      <td>False</td>\n",
       "      <td>False</td>\n",
       "      <td>False</td>\n",
       "    </tr>\n",
       "    <tr>\n",
       "      <th>1</th>\n",
       "      <td>False</td>\n",
       "      <td>False</td>\n",
       "      <td>False</td>\n",
       "      <td>False</td>\n",
       "      <td>False</td>\n",
       "      <td>False</td>\n",
       "      <td>False</td>\n",
       "    </tr>\n",
       "    <tr>\n",
       "      <th>2</th>\n",
       "      <td>False</td>\n",
       "      <td>False</td>\n",
       "      <td>False</td>\n",
       "      <td>False</td>\n",
       "      <td>False</td>\n",
       "      <td>False</td>\n",
       "      <td>False</td>\n",
       "    </tr>\n",
       "    <tr>\n",
       "      <th>3</th>\n",
       "      <td>False</td>\n",
       "      <td>False</td>\n",
       "      <td>False</td>\n",
       "      <td>False</td>\n",
       "      <td>False</td>\n",
       "      <td>False</td>\n",
       "      <td>False</td>\n",
       "    </tr>\n",
       "    <tr>\n",
       "      <th>4</th>\n",
       "      <td>False</td>\n",
       "      <td>False</td>\n",
       "      <td>False</td>\n",
       "      <td>False</td>\n",
       "      <td>False</td>\n",
       "      <td>False</td>\n",
       "      <td>False</td>\n",
       "    </tr>\n",
       "    <tr>\n",
       "      <th>...</th>\n",
       "      <td>...</td>\n",
       "      <td>...</td>\n",
       "      <td>...</td>\n",
       "      <td>...</td>\n",
       "      <td>...</td>\n",
       "      <td>...</td>\n",
       "      <td>...</td>\n",
       "    </tr>\n",
       "    <tr>\n",
       "      <th>1009</th>\n",
       "      <td>False</td>\n",
       "      <td>False</td>\n",
       "      <td>False</td>\n",
       "      <td>False</td>\n",
       "      <td>False</td>\n",
       "      <td>False</td>\n",
       "      <td>False</td>\n",
       "    </tr>\n",
       "    <tr>\n",
       "      <th>1010</th>\n",
       "      <td>False</td>\n",
       "      <td>False</td>\n",
       "      <td>False</td>\n",
       "      <td>False</td>\n",
       "      <td>False</td>\n",
       "      <td>False</td>\n",
       "      <td>False</td>\n",
       "    </tr>\n",
       "    <tr>\n",
       "      <th>1011</th>\n",
       "      <td>False</td>\n",
       "      <td>False</td>\n",
       "      <td>False</td>\n",
       "      <td>False</td>\n",
       "      <td>False</td>\n",
       "      <td>False</td>\n",
       "      <td>False</td>\n",
       "    </tr>\n",
       "    <tr>\n",
       "      <th>1012</th>\n",
       "      <td>False</td>\n",
       "      <td>False</td>\n",
       "      <td>False</td>\n",
       "      <td>False</td>\n",
       "      <td>False</td>\n",
       "      <td>False</td>\n",
       "      <td>False</td>\n",
       "    </tr>\n",
       "    <tr>\n",
       "      <th>1013</th>\n",
       "      <td>False</td>\n",
       "      <td>False</td>\n",
       "      <td>False</td>\n",
       "      <td>False</td>\n",
       "      <td>False</td>\n",
       "      <td>False</td>\n",
       "      <td>False</td>\n",
       "    </tr>\n",
       "  </tbody>\n",
       "</table>\n",
       "<p>1014 rows × 7 columns</p>\n",
       "</div>"
      ],
      "text/plain": [
       "        Age  SystolicBP(mmHg)  DiastolicBP(mmHg)  BS(mmol/L)  BodyTemp(°C)  \\\n",
       "0     False             False              False       False         False   \n",
       "1     False             False              False       False         False   \n",
       "2     False             False              False       False         False   \n",
       "3     False             False              False       False         False   \n",
       "4     False             False              False       False         False   \n",
       "...     ...               ...                ...         ...           ...   \n",
       "1009  False             False              False       False         False   \n",
       "1010  False             False              False       False         False   \n",
       "1011  False             False              False       False         False   \n",
       "1012  False             False              False       False         False   \n",
       "1013  False             False              False       False         False   \n",
       "\n",
       "      HeartRate(bpm)  RiskLevel  \n",
       "0              False      False  \n",
       "1              False      False  \n",
       "2              False      False  \n",
       "3              False      False  \n",
       "4              False      False  \n",
       "...              ...        ...  \n",
       "1009           False      False  \n",
       "1010           False      False  \n",
       "1011           False      False  \n",
       "1012           False      False  \n",
       "1013           False      False  \n",
       "\n",
       "[1014 rows x 7 columns]"
      ]
     },
     "execution_count": 109,
     "metadata": {},
     "output_type": "execute_result"
    }
   ],
   "source": [
    "df.isnull()"
   ]
  },
  {
   "cell_type": "markdown",
   "id": "10d55e8a",
   "metadata": {},
   "source": [
    "Although the table mostly shows 'False', indicating no entry is null, a clearer indication of the absense of missing values is to check each column and obtain the sum of missing values in them. The following code shows that every column has 0 missing values. Hence, the dataset does not have any missing values."
   ]
  },
  {
   "cell_type": "code",
   "execution_count": 110,
   "id": "c1aad95c",
   "metadata": {
    "scrolled": true
   },
   "outputs": [
    {
     "data": {
      "text/plain": [
       "Age                  0\n",
       "SystolicBP(mmHg)     0\n",
       "DiastolicBP(mmHg)    0\n",
       "BS(mmol/L)           0\n",
       "BodyTemp(°C)         0\n",
       "HeartRate(bpm)       0\n",
       "RiskLevel            0\n",
       "dtype: int64"
      ]
     },
     "execution_count": 110,
     "metadata": {},
     "output_type": "execute_result"
    }
   ],
   "source": [
    "df.isnull().sum()"
   ]
  },
  {
   "cell_type": "markdown",
   "id": "08862bce",
   "metadata": {},
   "source": [
    "Lastly, I will remove outliers by plotting a boxplot. Boxplots can display the values spread and outliers that deviate from the spread, making it easy to spot the variable with deviance."
   ]
  },
  {
   "cell_type": "code",
   "execution_count": 111,
   "id": "5694aa71",
   "metadata": {},
   "outputs": [
    {
     "data": {
      "text/plain": [
       "<AxesSubplot:>"
      ]
     },
     "execution_count": 111,
     "metadata": {},
     "output_type": "execute_result"
    },
    {
     "data": {
      "image/png": "[encoded data removed]",
      "text/plain": [
       "<Figure size 432x288 with 1 Axes>"
      ]
     },
     "metadata": {
      "needs_background": "light"
     },
     "output_type": "display_data"
    }
   ],
   "source": [
    "df.boxplot(column=['Age', 'SystolicBP(mmHg)', 'DiastolicBP(mmHg)'])"
   ]
  },
  {
   "cell_type": "code",
   "execution_count": 112,
   "id": "e308f863",
   "metadata": {
    "scrolled": true
   },
   "outputs": [
    {
     "data": {
      "text/plain": [
       "<AxesSubplot:>"
      ]
     },
     "execution_count": 112,
     "metadata": {},
     "output_type": "execute_result"
    },
    {
     "data": {
      "image/png": "[encoded data removed]",
      "text/plain": [
       "<Figure size 432x288 with 1 Axes>"
      ]
     },
     "metadata": {
      "needs_background": "light"
     },
     "output_type": "display_data"
    }
   ],
   "source": [
    "df.boxplot(column=['BS(mmol/L)', 'BodyTemp(°C)', 'HeartRate(bpm)'])"
   ]
  },
  {
   "cell_type": "markdown",
   "id": "aaf5b749",
   "metadata": {},
   "source": [
    "The above two boxplots show that there are outliers in almost every column. For age, systolic blood pressure, blood glucose levels and body temperatures, the outliers are normal and reasonable. However, the outlier in heart rates is inexplicable. It is impossible for heart rates to go below 20 bpm (beats per minute) as the dangerously slow heart rate only goes below 60 bpm [6]. Hence, this outlier can only be explained by an error in data collection."
   ]
  },
  {
   "cell_type": "markdown",
   "id": "a1c9e394",
   "metadata": {},
   "source": [
    "Therefore, I will be removing the rows that contains the outlier in heart rates, which are the following rows:"
   ]
  },
  {
   "cell_type": "code",
   "execution_count": 113,
   "id": "cf8ad0b2",
   "metadata": {},
   "outputs": [
    {
     "data": {
      "text/html": [
       "<div>\n",
       "<style scoped>\n",
       "    .dataframe tbody tr th:only-of-type {\n",
       "        vertical-align: middle;\n",
       "    }\n",
       "\n",
       "    .dataframe tbody tr th {\n",
       "        vertical-align: top;\n",
       "    }\n",
       "\n",
       "    .dataframe thead th {\n",
       "        text-align: right;\n",
       "    }\n",
       "</style>\n",
       "<table border=\"1\" class=\"dataframe\">\n",
       "  <thead>\n",
       "    <tr style=\"text-align: right;\">\n",
       "      <th></th>\n",
       "      <th>Age</th>\n",
       "      <th>SystolicBP(mmHg)</th>\n",
       "      <th>DiastolicBP(mmHg)</th>\n",
       "      <th>BS(mmol/L)</th>\n",
       "      <th>BodyTemp(°C)</th>\n",
       "      <th>HeartRate(bpm)</th>\n",
       "      <th>RiskLevel</th>\n",
       "    </tr>\n",
       "  </thead>\n",
       "  <tbody>\n",
       "    <tr>\n",
       "      <th>116</th>\n",
       "      <td>16</td>\n",
       "      <td>120</td>\n",
       "      <td>75</td>\n",
       "      <td>7.90</td>\n",
       "      <td>36.67</td>\n",
       "      <td>7</td>\n",
       "      <td>1</td>\n",
       "    </tr>\n",
       "    <tr>\n",
       "      <th>128</th>\n",
       "      <td>16</td>\n",
       "      <td>120</td>\n",
       "      <td>75</td>\n",
       "      <td>7.90</td>\n",
       "      <td>36.67</td>\n",
       "      <td>7</td>\n",
       "      <td>1</td>\n",
       "    </tr>\n",
       "  </tbody>\n",
       "</table>\n",
       "</div>"
      ],
      "text/plain": [
       "     Age  SystolicBP(mmHg)  DiastolicBP(mmHg)  BS(mmol/L)  BodyTemp(°C)  \\\n",
       "116   16               120                 75        7.90         36.67   \n",
       "128   16               120                 75        7.90         36.67   \n",
       "\n",
       "     HeartRate(bpm)  RiskLevel  \n",
       "116               7          1  \n",
       "128               7          1  "
      ]
     },
     "execution_count": 113,
     "metadata": {},
     "output_type": "execute_result"
    }
   ],
   "source": [
    "df[df['HeartRate(bpm)'] < 20]"
   ]
  },
  {
   "cell_type": "code",
   "execution_count": 114,
   "id": "7931dd92",
   "metadata": {},
   "outputs": [
    {
     "data": {
      "text/html": [
       "<div>\n",
       "<style scoped>\n",
       "    .dataframe tbody tr th:only-of-type {\n",
       "        vertical-align: middle;\n",
       "    }\n",
       "\n",
       "    .dataframe tbody tr th {\n",
       "        vertical-align: top;\n",
       "    }\n",
       "\n",
       "    .dataframe thead th {\n",
       "        text-align: right;\n",
       "    }\n",
       "</style>\n",
       "<table border=\"1\" class=\"dataframe\">\n",
       "  <thead>\n",
       "    <tr style=\"text-align: right;\">\n",
       "      <th></th>\n",
       "      <th>Age</th>\n",
       "      <th>SystolicBP(mmHg)</th>\n",
       "      <th>DiastolicBP(mmHg)</th>\n",
       "      <th>BS(mmol/L)</th>\n",
       "      <th>BodyTemp(°C)</th>\n",
       "      <th>HeartRate(bpm)</th>\n",
       "      <th>RiskLevel</th>\n",
       "    </tr>\n",
       "  </thead>\n",
       "  <tbody>\n",
       "    <tr>\n",
       "      <th>0</th>\n",
       "      <td>10</td>\n",
       "      <td>100</td>\n",
       "      <td>50</td>\n",
       "      <td>6.00</td>\n",
       "      <td>37.22</td>\n",
       "      <td>70</td>\n",
       "      <td>2</td>\n",
       "    </tr>\n",
       "    <tr>\n",
       "      <th>1</th>\n",
       "      <td>10</td>\n",
       "      <td>70</td>\n",
       "      <td>50</td>\n",
       "      <td>6.90</td>\n",
       "      <td>36.67</td>\n",
       "      <td>70</td>\n",
       "      <td>1</td>\n",
       "    </tr>\n",
       "    <tr>\n",
       "      <th>2</th>\n",
       "      <td>10</td>\n",
       "      <td>100</td>\n",
       "      <td>50</td>\n",
       "      <td>6.00</td>\n",
       "      <td>37.22</td>\n",
       "      <td>70</td>\n",
       "      <td>2</td>\n",
       "    </tr>\n",
       "    <tr>\n",
       "      <th>3</th>\n",
       "      <td>10</td>\n",
       "      <td>85</td>\n",
       "      <td>65</td>\n",
       "      <td>6.90</td>\n",
       "      <td>36.67</td>\n",
       "      <td>70</td>\n",
       "      <td>1</td>\n",
       "    </tr>\n",
       "    <tr>\n",
       "      <th>4</th>\n",
       "      <td>12</td>\n",
       "      <td>90</td>\n",
       "      <td>60</td>\n",
       "      <td>7.50</td>\n",
       "      <td>38.89</td>\n",
       "      <td>66</td>\n",
       "      <td>2</td>\n",
       "    </tr>\n",
       "    <tr>\n",
       "      <th>...</th>\n",
       "      <td>...</td>\n",
       "      <td>...</td>\n",
       "      <td>...</td>\n",
       "      <td>...</td>\n",
       "      <td>...</td>\n",
       "      <td>...</td>\n",
       "      <td>...</td>\n",
       "    </tr>\n",
       "    <tr>\n",
       "      <th>1009</th>\n",
       "      <td>65</td>\n",
       "      <td>130</td>\n",
       "      <td>80</td>\n",
       "      <td>15.00</td>\n",
       "      <td>36.67</td>\n",
       "      <td>86</td>\n",
       "      <td>3</td>\n",
       "    </tr>\n",
       "    <tr>\n",
       "      <th>1010</th>\n",
       "      <td>65</td>\n",
       "      <td>120</td>\n",
       "      <td>90</td>\n",
       "      <td>6.90</td>\n",
       "      <td>39.44</td>\n",
       "      <td>76</td>\n",
       "      <td>1</td>\n",
       "    </tr>\n",
       "    <tr>\n",
       "      <th>1011</th>\n",
       "      <td>65</td>\n",
       "      <td>90</td>\n",
       "      <td>60</td>\n",
       "      <td>6.90</td>\n",
       "      <td>36.67</td>\n",
       "      <td>70</td>\n",
       "      <td>1</td>\n",
       "    </tr>\n",
       "    <tr>\n",
       "      <th>1012</th>\n",
       "      <td>66</td>\n",
       "      <td>85</td>\n",
       "      <td>60</td>\n",
       "      <td>6.90</td>\n",
       "      <td>36.67</td>\n",
       "      <td>86</td>\n",
       "      <td>1</td>\n",
       "    </tr>\n",
       "    <tr>\n",
       "      <th>1013</th>\n",
       "      <td>70</td>\n",
       "      <td>85</td>\n",
       "      <td>60</td>\n",
       "      <td>6.90</td>\n",
       "      <td>38.89</td>\n",
       "      <td>70</td>\n",
       "      <td>1</td>\n",
       "    </tr>\n",
       "  </tbody>\n",
       "</table>\n",
       "<p>1012 rows × 7 columns</p>\n",
       "</div>"
      ],
      "text/plain": [
       "      Age  SystolicBP(mmHg)  DiastolicBP(mmHg)  BS(mmol/L)  BodyTemp(°C)  \\\n",
       "0      10               100                 50        6.00         37.22   \n",
       "1      10                70                 50        6.90         36.67   \n",
       "2      10               100                 50        6.00         37.22   \n",
       "3      10                85                 65        6.90         36.67   \n",
       "4      12                90                 60        7.50         38.89   \n",
       "...   ...               ...                ...         ...           ...   \n",
       "1009   65               130                 80       15.00         36.67   \n",
       "1010   65               120                 90        6.90         39.44   \n",
       "1011   65                90                 60        6.90         36.67   \n",
       "1012   66                85                 60        6.90         36.67   \n",
       "1013   70                85                 60        6.90         38.89   \n",
       "\n",
       "      HeartRate(bpm)  RiskLevel  \n",
       "0                 70          2  \n",
       "1                 70          1  \n",
       "2                 70          2  \n",
       "3                 70          1  \n",
       "4                 66          2  \n",
       "...              ...        ...  \n",
       "1009              86          3  \n",
       "1010              76          1  \n",
       "1011              70          1  \n",
       "1012              86          1  \n",
       "1013              70          1  \n",
       "\n",
       "[1012 rows x 7 columns]"
      ]
     },
     "execution_count": 114,
     "metadata": {},
     "output_type": "execute_result"
    }
   ],
   "source": [
    "df = df.drop([116, 128])\n",
    "df"
   ]
  },
  {
   "cell_type": "code",
   "execution_count": 115,
   "id": "edf813e6",
   "metadata": {},
   "outputs": [
    {
     "data": {
      "text/plain": [
       "<AxesSubplot:>"
      ]
     },
     "execution_count": 115,
     "metadata": {},
     "output_type": "execute_result"
    },
    {
     "data": {
      "image/png": "[encoded data removed]",
      "text/plain": [
       "<Figure size 432x288 with 1 Axes>"
      ]
     },
     "metadata": {
      "needs_background": "light"
     },
     "output_type": "display_data"
    }
   ],
   "source": [
    "df.boxplot(column=['HeartRate(bpm)'])"
   ]
  },
  {
   "cell_type": "markdown",
   "id": "d2d5ba36",
   "metadata": {},
   "source": [
    "After droping the two rows with outliers, there are 1012 rows in the dataset and the boxplot shows the absence of outliers. Hence, the data values do not contain any deviance now."
   ]
  },
  {
   "cell_type": "markdown",
   "id": "b1daea49",
   "metadata": {},
   "source": [
    "After rearranging, re-processing and cleaning data from the original dataset, the modified dataset is now ready to be explored and analysed on."
   ]
  },
  {
   "cell_type": "markdown",
   "id": "e82d7d8a",
   "metadata": {},
   "source": [
    "## 4.3 Technical exploration of dataset"
   ]
  },
  {
   "cell_type": "markdown",
   "id": "6ecd1ae4",
   "metadata": {},
   "source": [
    "I will start exploring the dataset based on the results it provides."
   ]
  },
  {
   "cell_type": "code",
   "execution_count": 116,
   "id": "32cff6fa",
   "metadata": {},
   "outputs": [
    {
     "data": {
      "text/html": [
       "<div>\n",
       "<style scoped>\n",
       "    .dataframe tbody tr th:only-of-type {\n",
       "        vertical-align: middle;\n",
       "    }\n",
       "\n",
       "    .dataframe tbody tr th {\n",
       "        vertical-align: top;\n",
       "    }\n",
       "\n",
       "    .dataframe thead th {\n",
       "        text-align: right;\n",
       "    }\n",
       "</style>\n",
       "<table border=\"1\" class=\"dataframe\">\n",
       "  <thead>\n",
       "    <tr style=\"text-align: right;\">\n",
       "      <th></th>\n",
       "      <th>Age</th>\n",
       "      <th>SystolicBP(mmHg)</th>\n",
       "      <th>DiastolicBP(mmHg)</th>\n",
       "      <th>BS(mmol/L)</th>\n",
       "      <th>BodyTemp(°C)</th>\n",
       "      <th>HeartRate(bpm)</th>\n",
       "      <th>RiskLevel</th>\n",
       "    </tr>\n",
       "  </thead>\n",
       "  <tbody>\n",
       "    <tr>\n",
       "      <th>0</th>\n",
       "      <td>23</td>\n",
       "      <td>120</td>\n",
       "      <td>80</td>\n",
       "      <td>7.50</td>\n",
       "      <td>36.67</td>\n",
       "      <td>70</td>\n",
       "      <td>1</td>\n",
       "    </tr>\n",
       "  </tbody>\n",
       "</table>\n",
       "</div>"
      ],
      "text/plain": [
       "   Age  SystolicBP(mmHg)  DiastolicBP(mmHg)  BS(mmol/L)  BodyTemp(°C)  \\\n",
       "0   23               120                 80        7.50         36.67   \n",
       "\n",
       "   HeartRate(bpm)  RiskLevel  \n",
       "0              70          1  "
      ]
     },
     "execution_count": 116,
     "metadata": {},
     "output_type": "execute_result"
    }
   ],
   "source": [
    "df.mode()"
   ]
  },
  {
   "cell_type": "markdown",
   "id": "1fe3d669",
   "metadata": {},
   "source": [
    "The above code and table shows the data values that has appeared most in the dataset. This shows that:\n",
    "- The most common age of pregnancy was 23.\n",
    "- Prevalent systolic and diastolic blood pressure was 120 mmHg and 80 mmHg respectively.\n",
    "- Blood glucose level in most pregnant women was 7.5 mmol/L.\n",
    "- Body temperature in most pregnant women was 36.67°C.\n",
    "- Heart rate in most pregnant women was 70 bpm. \n",
    "- Most pregnant women had a low risk level of having maternal health issues.\n",
    "\n",
    "From this, I can observe that pregnant women with these vital sign measurements generally have a low risk level of maternal health issues. However, further analysis and deeper interrelations are required to make this conclusion."
   ]
  },
  {
   "cell_type": "markdown",
   "id": "624c93ff",
   "metadata": {},
   "source": [
    "The following codes will display the top and bottom 5 values from the dataset. This study is important to my research question as I want to examine the extremes and observe how the vital sign measurements vary. This way, a better understanding of vital signs during pregnancy can be achieved and the analysis on its relationship with risk levels shown later in this report would be clearer.\n",
    "\n",
    "Top 5 oldest ages of pregnances:"
   ]
  },
  {
   "cell_type": "code",
   "execution_count": 117,
   "id": "f7daa2ac",
   "metadata": {
    "scrolled": true
   },
   "outputs": [
    {
     "data": {
      "text/plain": [
       "1013    70\n",
       "1012    66\n",
       "1009    65\n",
       "1010    65\n",
       "1011    65\n",
       "Name: Age, dtype: int64"
      ]
     },
     "execution_count": 117,
     "metadata": {},
     "output_type": "execute_result"
    }
   ],
   "source": [
    "df['Age'].nlargest(n=5)"
   ]
  },
  {
   "cell_type": "markdown",
   "id": "e084d3e3",
   "metadata": {},
   "source": [
    "Top 5 largest measurements of systolic and diastolic blood pressures:"
   ]
  },
  {
   "cell_type": "code",
   "execution_count": 118,
   "id": "eac6d454",
   "metadata": {},
   "outputs": [
    {
     "data": {
      "text/plain": [
       "762    160\n",
       "765    160\n",
       "766    160\n",
       "774    160\n",
       "781    160\n",
       "Name: SystolicBP(mmHg), dtype: int64"
      ]
     },
     "execution_count": 118,
     "metadata": {},
     "output_type": "execute_result"
    }
   ],
   "source": [
    "df['SystolicBP(mmHg)'].nlargest(n=5)"
   ]
  },
  {
   "cell_type": "code",
   "execution_count": 119,
   "id": "286c2e6f",
   "metadata": {},
   "outputs": [
    {
     "data": {
      "text/plain": [
       "191    100\n",
       "458    100\n",
       "459    100\n",
       "460    100\n",
       "461    100\n",
       "Name: DiastolicBP(mmHg), dtype: int64"
      ]
     },
     "execution_count": 119,
     "metadata": {},
     "output_type": "execute_result"
    }
   ],
   "source": [
    "df['DiastolicBP(mmHg)'].nlargest(n=5)"
   ]
  },
  {
   "cell_type": "markdown",
   "id": "cf7f0540",
   "metadata": {},
   "source": [
    "Top 5 largest blood glucose levels:"
   ]
  },
  {
   "cell_type": "code",
   "execution_count": 120,
   "id": "e53d9a9c",
   "metadata": {},
   "outputs": [
    {
     "data": {
      "text/plain": [
       "703   19.00\n",
       "732   19.00\n",
       "762   19.00\n",
       "765   19.00\n",
       "766   19.00\n",
       "Name: BS(mmol/L), dtype: float64"
      ]
     },
     "execution_count": 120,
     "metadata": {},
     "output_type": "execute_result"
    }
   ],
   "source": [
    "df['BS(mmol/L)'].nlargest(n=5)"
   ]
  },
  {
   "cell_type": "markdown",
   "id": "254d7767",
   "metadata": {},
   "source": [
    "Top 5 highest body temperatures:"
   ]
  },
  {
   "cell_type": "code",
   "execution_count": 121,
   "id": "fa1c3b22",
   "metadata": {},
   "outputs": [
    {
     "data": {
      "text/plain": [
       "135   39.44\n",
       "137   39.44\n",
       "145   39.44\n",
       "150   39.44\n",
       "176   39.44\n",
       "Name: BodyTemp(°C), dtype: float64"
      ]
     },
     "execution_count": 121,
     "metadata": {},
     "output_type": "execute_result"
    }
   ],
   "source": [
    "df['BodyTemp(°C)'].nlargest(n=5)"
   ]
  },
  {
   "cell_type": "markdown",
   "id": "bf27752f",
   "metadata": {},
   "source": [
    "Top 5 fastest heart rates:"
   ]
  },
  {
   "cell_type": "code",
   "execution_count": 122,
   "id": "2a6efb34",
   "metadata": {},
   "outputs": [
    {
     "data": {
      "text/plain": [
       "515    90\n",
       "771    90\n",
       "790    90\n",
       "797    90\n",
       "800    90\n",
       "Name: HeartRate(bpm), dtype: int64"
      ]
     },
     "execution_count": 122,
     "metadata": {},
     "output_type": "execute_result"
    }
   ],
   "source": [
    "df['HeartRate(bpm)'].nlargest(n=5)"
   ]
  },
  {
   "cell_type": "markdown",
   "id": "024a7557",
   "metadata": {},
   "source": [
    "From the categorisation above, it shows that:\n",
    "- The top 5 oldest ages of pregnancies were 70 to 65.\n",
    "- Top 5 largest Systolic blood pressure was all at 160 mmHg.\n",
    "- Top 5 largest Diastolic blood pressure was all at 100 mmHg.\n",
    "- Top 5 largest blood glucose level was all at 19.00 mmol/L.\n",
    "- Top 5 highest body temperatures were all 39.44°C.\n",
    "- Top 5 fastest heart rates were all at 90 beats per minute."
   ]
  },
  {
   "cell_type": "markdown",
   "id": "ccc678c4",
   "metadata": {},
   "source": [
    "Similarly, the following codes will display the bottom 5 youngest ages of pregnancies and the bottom 5 smallest measurements of each vital sign.\n",
    "\n",
    "Bottom 5 youngest ages of pregnancies:"
   ]
  },
  {
   "cell_type": "code",
   "execution_count": 123,
   "id": "9d5443d6",
   "metadata": {},
   "outputs": [
    {
     "data": {
      "text/plain": [
       "0    10\n",
       "1    10\n",
       "2    10\n",
       "3    10\n",
       "4    12\n",
       "Name: Age, dtype: int64"
      ]
     },
     "execution_count": 123,
     "metadata": {},
     "output_type": "execute_result"
    }
   ],
   "source": [
    "df['Age'].nsmallest(n=5)"
   ]
  },
  {
   "cell_type": "markdown",
   "id": "5cdafadf",
   "metadata": {},
   "source": [
    "Bottom 5 lowest systolic and diastolic blood pressures:"
   ]
  },
  {
   "cell_type": "code",
   "execution_count": 124,
   "id": "33882492",
   "metadata": {},
   "outputs": [
    {
     "data": {
      "text/plain": [
       "1      70\n",
       "78     70\n",
       "97     70\n",
       "118    70\n",
       "121    70\n",
       "Name: SystolicBP(mmHg), dtype: int64"
      ]
     },
     "execution_count": 124,
     "metadata": {},
     "output_type": "execute_result"
    }
   ],
   "source": [
    "df['SystolicBP(mmHg)'].nsmallest(n=5)"
   ]
  },
  {
   "cell_type": "code",
   "execution_count": 125,
   "id": "3f5a8006",
   "metadata": {},
   "outputs": [
    {
     "data": {
      "text/plain": [
       "54    49\n",
       "61    49\n",
       "62    49\n",
       "64    49\n",
       "67    49\n",
       "Name: DiastolicBP(mmHg), dtype: int64"
      ]
     },
     "execution_count": 125,
     "metadata": {},
     "output_type": "execute_result"
    }
   ],
   "source": [
    "df['DiastolicBP(mmHg)'].nsmallest(n=5)"
   ]
  },
  {
   "cell_type": "markdown",
   "id": "cc299830",
   "metadata": {},
   "source": [
    "Bottom 5 lowest blood glucose levels:"
   ]
  },
  {
   "cell_type": "code",
   "execution_count": 126,
   "id": "563a8c0c",
   "metadata": {},
   "outputs": [
    {
     "data": {
      "text/plain": [
       "0    6.00\n",
       "2    6.00\n",
       "7    6.00\n",
       "21   6.00\n",
       "63   6.00\n",
       "Name: BS(mmol/L), dtype: float64"
      ]
     },
     "execution_count": 126,
     "metadata": {},
     "output_type": "execute_result"
    }
   ],
   "source": [
    "df['BS(mmol/L)'].nsmallest(n=5)"
   ]
  },
  {
   "cell_type": "markdown",
   "id": "315f1eb4",
   "metadata": {},
   "source": [
    "Bottom 5 lowest body temperatures:"
   ]
  },
  {
   "cell_type": "code",
   "execution_count": 127,
   "id": "e4fd1505",
   "metadata": {},
   "outputs": [
    {
     "data": {
      "text/plain": [
       "1   36.67\n",
       "3   36.67\n",
       "5   36.67\n",
       "6   36.67\n",
       "7   36.67\n",
       "Name: BodyTemp(°C), dtype: float64"
      ]
     },
     "execution_count": 127,
     "metadata": {},
     "output_type": "execute_result"
    }
   ],
   "source": [
    "df['BodyTemp(°C)'].nsmallest(n=5)"
   ]
  },
  {
   "cell_type": "markdown",
   "id": "c32227f9",
   "metadata": {},
   "source": [
    "\n",
    "Bottom 5 slowest heart rates:"
   ]
  },
  {
   "cell_type": "code",
   "execution_count": 128,
   "id": "4b0bc8c3",
   "metadata": {},
   "outputs": [
    {
     "data": {
      "text/plain": [
       "8     60\n",
       "9     60\n",
       "19    60\n",
       "22    60\n",
       "24    60\n",
       "Name: HeartRate(bpm), dtype: int64"
      ]
     },
     "execution_count": 128,
     "metadata": {},
     "output_type": "execute_result"
    }
   ],
   "source": [
    "df['HeartRate(bpm)'].nsmallest(n=5)"
   ]
  },
  {
   "cell_type": "markdown",
   "id": "228d7fbb",
   "metadata": {},
   "source": [
    "From the categorisation above, it shows that:\n",
    "- The bottom 5 youngest ages of pregnancies were 10 and 12.\n",
    "- Top 5 smallest Systolic blood pressure was all at 70 mmHg.\n",
    "- Top 5 smallest Diastolic blood pressure was all at 49 mmHg.\n",
    "- Top 5 lowest blood glucose level was all at 6.00 mmol/L.\n",
    "- Top 5 lowest body temperatures were all 36.67°C.\n",
    "- Top 5 slowest heart rates were all at 60 bpm."
   ]
  },
  {
   "cell_type": "markdown",
   "id": "8853eb62",
   "metadata": {},
   "source": [
    "From the study above, we saw the most common and the two extreme measurements of vital signs in the group of pregnant women. From these sets of catergorisations, I can conclude that most of the pregnant women were at a low risk of maternal health problems and had normal vital sign measurements during their pregnancies. However, no conclusions can be drawn about which vital sign is responsible for risks in maternal health. Further analysis is required."
   ]
  },
  {
   "cell_type": "markdown",
   "id": "33d98043",
   "metadata": {},
   "source": [
    "## 4.3 Exploratory analysis of dataset"
   ]
  },
  {
   "cell_type": "markdown",
   "id": "6023c312",
   "metadata": {},
   "source": [
    "Hereafter, I will use visual representations to display relationships between the individual vital signs and the impact it has on the maternal health risks levels.\n",
    "\n",
    "I will be spliting this analysis in 2 stages. Stage 1 will analyse every vital sign in the dataset against the risk levels and eliminate the least relevant vital signs. Stage 2 will compare the vital signs that affect maternal health to a certain level (based on Stage 1's results) to identify which factor is the strongest indicator of maternal health risk."
   ]
  },
  {
   "cell_type": "markdown",
   "id": "e48fe8d4",
   "metadata": {},
   "source": [
    "### 4.3.1 Exploratory analysis stage 1"
   ]
  },
  {
   "cell_type": "markdown",
   "id": "db2411a8",
   "metadata": {},
   "source": [
    "Firstly, to start answering my research question of which vital sign is most responsible for risks in maternal health, I will study how prevalent each risk levels are among the group of pregnant women through the following pie chart."
   ]
  },
  {
   "cell_type": "markdown",
   "id": "cd611960",
   "metadata": {},
   "source": [
    "I have used the matplotlib library here to plot the pie chart. This library aids in the creation of visualisations such as pie charts and other graphs. Since such visualisations are crucial for my analysis, I have used the matplotlib library. Here, I have used the plot() function."
   ]
  },
  {
   "cell_type": "code",
   "execution_count": 129,
   "id": "fdca597f",
   "metadata": {},
   "outputs": [
    {
     "data": {
      "text/plain": [
       "<AxesSubplot:ylabel='RiskLevel'>"
      ]
     },
     "execution_count": 129,
     "metadata": {},
     "output_type": "execute_result"
    },
    {
     "data": {
      "image/png": "[encoded data removed]",
      "text/plain": [
       "<Figure size 432x288 with 1 Axes>"
      ]
     },
     "metadata": {},
     "output_type": "display_data"
    }
   ],
   "source": [
    "df['RiskLevel'].value_counts().plot(kind='pie', \n",
    "                                    labels = ['low risk', 'mid risk', 'high risk'], \n",
    "                                    colors = ['green', 'orange', 'red'],\n",
    "                                    autopct = '%1.0f%%',\n",
    "                                    explode = [0.02, 0.02, 0.02])"
   ]
  },
  {
   "cell_type": "markdown",
   "id": "fe184a87",
   "metadata": {},
   "source": [
    "As seen in the pie chart above, most women have a low risk of maternal health problems. However, a significant portion of women have a middle or moderate level of risk. This means that although the 33% of women do not have a high risk of maternal health problems, their health is at a concerning level and attention is required. Hence, in the following analysis, I will study which factors are contributing to such risks levels."
   ]
  },
  {
   "cell_type": "markdown",
   "id": "425e1c6d",
   "metadata": {},
   "source": [
    "I have used distribution plot (displot) in terms of kernel density estimate (KDE) to represent the relationship between risk levels and the age and vital sign measurements. I have chosen KDE as it makes it easier to compare not only between the vital signs and risk levels, but also within risk levels. All 3 risk levels are visible at the same time, allowing for comparisons to be made between each risk level under a common vital sign."
   ]
  },
  {
   "cell_type": "markdown",
   "id": "6a36e455",
   "metadata": {},
   "source": [
    "The array 'colours' is initialised to store respective colours for each risk levels. Low risk would be in green, mid risk would be in orange and high risk would be in red. "
   ]
  },
  {
   "cell_type": "code",
   "execution_count": 130,
   "id": "2fe6ffce",
   "metadata": {},
   "outputs": [],
   "source": [
    "colours = ['tab:green', 'tab:orange', 'tab:red']"
   ]
  },
  {
   "cell_type": "markdown",
   "id": "8d0d299d",
   "metadata": {},
   "source": [
    "For the following distribution plots, I have used the seaborn library. It is a python data visualisation library based on matplotlib. For my case, there are more than 1 variable within the 'RiskLevel' variable that needs to be represented. Hence, seaborn library can allow for a more advanced representation of data which matplotlib may not support. The following codes uses sns.displot() functions."
   ]
  },
  {
   "cell_type": "markdown",
   "id": "aeaff7aa",
   "metadata": {},
   "source": [
    "##### Age with Risk levels"
   ]
  },
  {
   "cell_type": "code",
   "execution_count": 131,
   "id": "440e881b",
   "metadata": {
    "scrolled": false
   },
   "outputs": [
    {
     "data": {
      "text/plain": [
       "<seaborn.axisgrid.FacetGrid at 0x7fdd29c4eca0>"
      ]
     },
     "execution_count": 131,
     "metadata": {},
     "output_type": "execute_result"
    },
    {
     "data": {
      "image/png": "[encoded data removed]",
      "text/plain": [
       "<Figure size 415.125x360 with 1 Axes>"
      ]
     },
     "metadata": {
      "needs_background": "light"
     },
     "output_type": "display_data"
    }
   ],
   "source": [
    "sns.displot(x=df['Age'], hue=df['RiskLevel'], palette=colours, kind='kde')"
   ]
  },
  {
   "cell_type": "markdown",
   "id": "56ca7c88",
   "metadata": {},
   "source": [
    "The displot above shows that the age with the highest maternal health risk is around 40. Pregnant women younger and older than 40 years old had decreasing maternal health risks. However, women older than 40 still continued to have high risk levels. The age of pregnancy safest for maternal health was below 20 years old.\n",
    "\n",
    "This shows that age of pregnancy does affect maternal health."
   ]
  },
  {
   "cell_type": "markdown",
   "id": "2d509bf6",
   "metadata": {},
   "source": [
    "###### Systolic blood pressure (SBP) with Risk levels"
   ]
  },
  {
   "cell_type": "code",
   "execution_count": 132,
   "id": "7095b3a9",
   "metadata": {},
   "outputs": [
    {
     "data": {
      "text/plain": [
       "<seaborn.axisgrid.FacetGrid at 0x7fdd2b7bd460>"
      ]
     },
     "execution_count": 132,
     "metadata": {},
     "output_type": "execute_result"
    },
    {
     "data": {
      "image/png": "[encoded data removed]",
      "text/plain": [
       "<Figure size 415.125x360 with 1 Axes>"
      ]
     },
     "metadata": {
      "needs_background": "light"
     },
     "output_type": "display_data"
    }
   ],
   "source": [
    "sns.displot(x=df['SystolicBP(mmHg)'], hue=df['RiskLevel'], palette=colours, kind='kde')"
   ]
  },
  {
   "cell_type": "markdown",
   "id": "cb6918db",
   "metadata": {},
   "source": [
    "This displot above shows that most pregnant women with high risk levels had their SBP at around 140mmHg, while pregnant women who had low health risks had their SBP measurements at 120mmHg. As SBP levels increase, there is an increase in number of women with high health risk. At the same time, women with SBP levels above 140mmHg started to have lower health risks. This shows that SBP affects maternal health in a certain way, although more analysis on other factors is required."
   ]
  },
  {
   "cell_type": "markdown",
   "id": "ef6d655a",
   "metadata": {},
   "source": [
    "##### Diastolic BP (DBP) with Risk Levels"
   ]
  },
  {
   "cell_type": "code",
   "execution_count": 133,
   "id": "40bac303",
   "metadata": {},
   "outputs": [
    {
     "data": {
      "text/plain": [
       "<seaborn.axisgrid.FacetGrid at 0x7fdd2bac1490>"
      ]
     },
     "execution_count": 133,
     "metadata": {},
     "output_type": "execute_result"
    },
    {
     "data": {
      "image/png": "[encoded data removed]",
      "text/plain": [
       "<Figure size 415.125x360 with 1 Axes>"
      ]
     },
     "metadata": {
      "needs_background": "light"
     },
     "output_type": "display_data"
    }
   ],
   "source": [
    "sns.displot(x=df['DiastolicBP(mmHg)'], hue=df['RiskLevel'], palette=colours, kind='kde')"
   ]
  },
  {
   "cell_type": "markdown",
   "id": "4a84d22f",
   "metadata": {},
   "source": [
    "This displot above is similar to that of Systolic BP's relation with risk levels. It shows that most pregnant women with high health risks had their DBP at 100mmHg. More and more women with DBP higher than 70mmHg have high health risk levels. As DBP levels increase, more pregnant women started having high health risks. Hence, this also shows that DBP affects maternal health to a certain level. Whether it affects largely can only be determined by analysing the remaining vital signs."
   ]
  },
  {
   "cell_type": "markdown",
   "id": "07f735d5",
   "metadata": {},
   "source": [
    "##### Blood glucose level (BS) with Risk Levels"
   ]
  },
  {
   "cell_type": "code",
   "execution_count": 134,
   "id": "58175ddc",
   "metadata": {},
   "outputs": [
    {
     "data": {
      "text/plain": [
       "<seaborn.axisgrid.FacetGrid at 0x7fdd2beef400>"
      ]
     },
     "execution_count": 134,
     "metadata": {},
     "output_type": "execute_result"
    },
    {
     "data": {
      "image/png": "[encoded data removed]",
      "text/plain": [
       "<Figure size 415.125x360 with 1 Axes>"
      ]
     },
     "metadata": {
      "needs_background": "light"
     },
     "output_type": "display_data"
    }
   ],
   "source": [
    "sns.displot(x=df['BS(mmol/L)'], hue=df['RiskLevel'], palette=colours, kind='kde')"
   ]
  },
  {
   "cell_type": "markdown",
   "id": "7f1cac37",
   "metadata": {},
   "source": [
    "The displot above shows that pregnant women with BS levels at around 7mmol/L glucose level mostly had low maternal health risk level. At the same time, there were the same number of women with BS levels at 7mmol/L and higher with high maternal health risk. \n",
    "\n",
    "This means that every pregnant woman with BS level 7mmol/L and higher had mid to high risk levels. There are little to no woman who was unaffected with 7mmol/L or higher BS levels. Hence, it can be concluded that BS affects maternal health greatly. To confirm this, we need to continue analysing the other vital signs."
   ]
  },
  {
   "cell_type": "markdown",
   "id": "dfdb752b",
   "metadata": {},
   "source": [
    "##### Body Temperature with Risk Levels"
   ]
  },
  {
   "cell_type": "code",
   "execution_count": 135,
   "id": "e21be549",
   "metadata": {},
   "outputs": [
    {
     "data": {
      "text/plain": [
       "<seaborn.axisgrid.FacetGrid at 0x7fdd2bee4c70>"
      ]
     },
     "execution_count": 135,
     "metadata": {},
     "output_type": "execute_result"
    },
    {
     "data": {
      "image/png": "[encoded data removed]",
      "text/plain": [
       "<Figure size 415.125x360 with 1 Axes>"
      ]
     },
     "metadata": {
      "needs_background": "light"
     },
     "output_type": "display_data"
    }
   ],
   "source": [
    "sns.displot(x=df['BodyTemp(°C)'], hue=df['RiskLevel'], palette=colours, kind='kde')"
   ]
  },
  {
   "cell_type": "markdown",
   "id": "84b59d8e",
   "metadata": {},
   "source": [
    "The displot above shows that most pregnant women with high health risk had their body temperature at around 36.6°C. Although that means women with that body temperature need to be more vigilant, a larger proportion of women with low health risk also had the same body temperature of 36.6°C. Hence, it is unclear if body temperature affects maternal health or not. Since we had seen other vital signs that showed greater signs of impact on maternal health, we can safely rule out body temperature as a weak indicator of maternal health risks."
   ]
  },
  {
   "cell_type": "markdown",
   "id": "bdef88e5",
   "metadata": {},
   "source": [
    "##### Heart rate with Risk Levels"
   ]
  },
  {
   "cell_type": "code",
   "execution_count": 136,
   "id": "7693b105",
   "metadata": {},
   "outputs": [
    {
     "data": {
      "text/plain": [
       "<seaborn.axisgrid.FacetGrid at 0x7fdd2bd808b0>"
      ]
     },
     "execution_count": 136,
     "metadata": {},
     "output_type": "execute_result"
    },
    {
     "data": {
      "image/png": "[encoded data removed]",
      "text/plain": [
       "<Figure size 415.125x360 with 1 Axes>"
      ]
     },
     "metadata": {
      "needs_background": "light"
     },
     "output_type": "display_data"
    }
   ],
   "source": [
    "sns.displot(x=df['HeartRate(bpm)'], hue=df['RiskLevel'], palette=colours, kind='kde')"
   ]
  },
  {
   "cell_type": "markdown",
   "id": "cb17ae6c",
   "metadata": {},
   "source": [
    "The displot above shows that all three risk levels had a similar growth across all heart rates. This means that at every heart rate, there were relatively same number of women at each risk level. An exception is heart rates between 70 and 80bpm where most women had mid to low risk levels. This shows that although risk levels increase at 80bpm, there is an equal proportion of women who had low risk. Hence it is unclear to conclude if heart rates affect maternal health. Hence, we can safely rule out heart rate as a vital sign that does not affect maternal health."
   ]
  },
  {
   "cell_type": "markdown",
   "id": "f875cfce",
   "metadata": {},
   "source": [
    "##### Summary of analysis:"
   ]
  },
  {
   "cell_type": "markdown",
   "id": "b45e746f",
   "metadata": {},
   "source": [
    "Although the analysis above could have been clearer if there were same number of women at each risk levels, constructive conclusions can be made from Stage 1's analysis.\n",
    "\n",
    "We can conclude that body temperatures and heart rates do not play a significant role in affecting maternal health since there were equal proportions of women with low, mid and high health risks. However, we have seen that age of pregancies, systolic blood pressure, diastolic blood pressure and glucose levels do affect maternal health risk linearly. Of these 4 vital signs, age of pregnancies do not affect maternal health as much as glucose levels, systolic and diastolic blood pressures do. In addition, age can be strongly related to every vital sign. Hence, I will analyse the 3 vital signs against risk levels before comparing age of pregnancies."
   ]
  },
  {
   "cell_type": "markdown",
   "id": "e853fecb",
   "metadata": {},
   "source": [
    "### 4.3.2 Exploratory analysis Stage 2"
   ]
  },
  {
   "cell_type": "markdown",
   "id": "d65c54ed",
   "metadata": {},
   "source": [
    "In this stage, I will first compare systolic and diastolic blood pressures' impact on maternal health risk.\n",
    "Thereafter, I will compare the most relevant of the two blood pressures with blood glucose level.\n",
    "\n",
    "For Stage 2, I will use a joint plot, it displays each vital sign's graphs from Stage 1 and compares each displots using a scatter plot. This way, a more visual representation of the data can be seen since we are comparing 2 vital signs now."
   ]
  },
  {
   "cell_type": "markdown",
   "id": "ca861c7c",
   "metadata": {},
   "source": [
    "For the following joint plots, I have used the seaborn library to plot them. On top of the variance within one variable of 'RiskLevel' I am comparing two vital signs. Hence, seaborn is able to support a visualisation that can join two graphs to produce a scatter plot for multivariate analysis."
   ]
  },
  {
   "cell_type": "markdown",
   "id": "046648ee",
   "metadata": {},
   "source": [
    "##### Systolic and Diastolic blood pressures with Risk Levels"
   ]
  },
  {
   "cell_type": "code",
   "execution_count": 137,
   "id": "cb71557f",
   "metadata": {
    "scrolled": false
   },
   "outputs": [
    {
     "data": {
      "text/plain": [
       "<seaborn.axisgrid.JointGrid at 0x7fdd2c280d30>"
      ]
     },
     "execution_count": 137,
     "metadata": {},
     "output_type": "execute_result"
    },
    {
     "data": {
      "image/png": "[encoded data removed]",
      "text/plain": [
       "<Figure size 432x432 with 3 Axes>"
      ]
     },
     "metadata": {
      "needs_background": "light"
     },
     "output_type": "display_data"
    }
   ],
   "source": [
    "sns.jointplot(x = df['SystolicBP(mmHg)'], \n",
    "              y = df['DiastolicBP(mmHg)'], \n",
    "              hue=df['RiskLevel'], \n",
    "              palette=colours, \n",
    "              s=50)"
   ]
  },
  {
   "cell_type": "markdown",
   "id": "a6b48b66",
   "metadata": {},
   "source": [
    "The jointplot above shows that for almost every DBP level, there was relatively equal number of women with low, mid and high risk levels. Hence, it is unclear if DBP affects maternal health.\n",
    "\n",
    "Whereas most women at high health risk are cluttered around SBP levels of 140mmHg, while SBP levels lower than 120mmHg mostly have women at mid to low risk of maternal health problems. Hence, we can conclude that SBP levels affect maternal health more than DBP levels."
   ]
  },
  {
   "cell_type": "markdown",
   "id": "1a8a7c9c",
   "metadata": {},
   "source": [
    "##### Systolic and Diastolic blood pressure and BS with Risk Levels"
   ]
  },
  {
   "cell_type": "code",
   "execution_count": 138,
   "id": "6da2fae1",
   "metadata": {},
   "outputs": [
    {
     "data": {
      "text/plain": [
       "<seaborn.axisgrid.JointGrid at 0x7fdd2c9907c0>"
      ]
     },
     "execution_count": 138,
     "metadata": {},
     "output_type": "execute_result"
    },
    {
     "data": {
      "image/png": "[encoded data removed]",
      "text/plain": [
       "<Figure size 432x432 with 3 Axes>"
      ]
     },
     "metadata": {
      "needs_background": "light"
     },
     "output_type": "display_data"
    },
    {
     "data": {
      "image/png": "[encoded data removed]",
      "text/plain": [
       "<Figure size 432x432 with 3 Axes>"
      ]
     },
     "metadata": {
      "needs_background": "light"
     },
     "output_type": "display_data"
    }
   ],
   "source": [
    "sns.jointplot(x=df['SystolicBP(mmHg)'], \n",
    "              y=df['BS(mmol/L)'], \n",
    "              hue=df['RiskLevel'], \n",
    "              palette=colours,\n",
    "              s=50)\n",
    "\n",
    "sns.jointplot(x=df['DiastolicBP(mmHg)'], \n",
    "              y=df['BS(mmol/L)'], \n",
    "              hue=df['RiskLevel'], \n",
    "              palette=colours,\n",
    "              s=50)"
   ]
  },
  {
   "cell_type": "markdown",
   "id": "cb0d93d1",
   "metadata": {},
   "source": [
    "The joint plot above shows that at every BS level, there are more women at high health risk level than women at low or mid risk levels. Only at BS levels 8mmol/L and below are they at low risk levels. Whereas for SBP and DBP levels, there are as much women with high risk levels as there are women with low or mid risk levels at every SBP level. \n",
    "\n",
    "This shows that the two blood pressures play a lesser role in affecting maternal health than blood glucose levels. This is because pregnant women have to be careful once their BS levels hit 8mmol/L and above to ensure they do not enter a high health risk level."
   ]
  },
  {
   "cell_type": "code",
   "execution_count": 139,
   "id": "e741bd35",
   "metadata": {
    "scrolled": false
   },
   "outputs": [
    {
     "data": {
      "text/plain": [
       "<seaborn.axisgrid.JointGrid at 0x7fdd29d07d30>"
      ]
     },
     "execution_count": 139,
     "metadata": {},
     "output_type": "execute_result"
    },
    {
     "data": {
      "image/png": "[encoded data removed]",
      "text/plain": [
       "<Figure size 432x432 with 3 Axes>"
      ]
     },
     "metadata": {
      "needs_background": "light"
     },
     "output_type": "display_data"
    }
   ],
   "source": [
    "sns.jointplot(x = df['Age'], \n",
    "              y = df['BS(mmol/L)'],\n",
    "              hue=df['RiskLevel'], \n",
    "              palette=colours,\n",
    "              s=50)"
   ]
  },
  {
   "cell_type": "markdown",
   "id": "9167ab6e",
   "metadata": {},
   "source": [
    "Since we have determined that BS levels affect maternal health the most, it is crucial to look out for the corresponding age ranges in which women have high risk levels.\n",
    "\n",
    "The displot above shows that across all ages and all BS levels, there were pregnant women with high health risk levels. However, ages below 40 had an equal proportion of women with mid or low health risk levels. This shows that women below 40 years old will have a healthy maternity provided their BS levels are kept below 8mmol/L. Hence, older women with high BS levels had higher risks of maternal health problems"
   ]
  },
  {
   "cell_type": "markdown",
   "id": "5e3779a1",
   "metadata": {},
   "source": [
    "##### Summary of analysis"
   ]
  },
  {
   "cell_type": "markdown",
   "id": "6e454251",
   "metadata": {},
   "source": [
    "Stage 2 analysis shows that systolic and diastolic blood pressures have a great impact on maternal health. But blood glucose levels has a greater impact than the blood pressures. \n",
    "\n",
    "Pregnant women can have diastolic blood pressures measurements ranging between 50s to 90s and systolic blood pressure measurements ranging between 70 to 120mmHg. Any pressure higher than these ranges is dangerous for maternal health.\n",
    "\n",
    "However, for blood glucose levels, Pregnant women need to be careful at glucose levels 8mmol/L and above. Maintaining glucose levels between 5 to 10mmol/L should be very important as most women with low maternal health risk had their glucose levels in that range.\n",
    "\n",
    "In addition, women with high maternal health risk were prevalent across all ages. However, women below 40 years old are safer if they keep their blood glucose levels below 8mmol/L.\n",
    "\n",
    "In conclusion, older women with high blood glucose levels should be given more attention as they are more prone to having maternal health risks."
   ]
  },
  {
   "cell_type": "markdown",
   "id": "152635c9",
   "metadata": {},
   "source": [
    "### 4.3.3 Exploratory analysis conclusion"
   ]
  },
  {
   "cell_type": "markdown",
   "id": "4994262a",
   "metadata": {},
   "source": [
    "Through the two stages of analysis, we saw that every vital sign played a role in maternal health risks to a certain extent. However, the systolic and diastolic blood pressures and blood glucose levels played larger roles in affecting maternal health. After a further analysis on the 3 vital signs, we have found that blood glucose levels need to be monitored and maintained more carefully than the other vital signs. The range of high risk in glucose levels was much larger than that of other vital signs.\n",
    "\n",
    "However, it is important to watch pregnant women's blood pressures together with their glucose levels. From Stage 2, we saw how closely related the two vital signs were in affecting maternal health. As both measurements increase, there were more women with high maternal health risk.\n",
    "\n",
    "In conclusion, to answer my research question of which vital sign affects maternal health the most, it was evident that blood glucose levels played the largest role, together with older age. However, it cannot be ignored that the two blood pressures, especially systolic, were strongly related to glucose levels. Which in turn affect maternal health largely as well. Hence, older women with high levels of glucose levels and pressures in their blood should be vigilant and careful with their maternal health."
   ]
  },
  {
   "cell_type": "markdown",
   "id": "be0c98ce",
   "metadata": {},
   "source": [
    "# 5. Ethical consideration"
   ]
  },
  {
   "cell_type": "markdown",
   "id": "a5de4638",
   "metadata": {},
   "source": [
    "### 5.1 Data provenance\n",
    "I have taken the original dataset for this project from Kaggle [7]. Kaggle is an online community that allows users to collaborate, find and publish datasets. It is open sourced and datasets shared in the website is public. Once obtaining the dataset from Kaggle, I did some reprocessing and cleaning to suit the course of my analysis."
   ]
  },
  {
   "cell_type": "markdown",
   "id": "80845c86",
   "metadata": {},
   "source": [
    "### 5.2 Considerations of data usage\n",
    "The analysis carried out in this project is purely a deeper study on the chosen dataset. Results obtained from this analysis is not different from the data in the dataset, but rather an extensive examination of the data. Hence, there is no potential of new forms of intellectual property to be obtained from this analysis."
   ]
  },
  {
   "cell_type": "markdown",
   "id": "7093e44f",
   "metadata": {},
   "source": [
    "### 5.3 Implications of data usage for purpose\n",
    "For this project, I have utilised the chosen data because it had a very close relevance to my research question of which vital sign affects maternal health the most. The data provided in this dataset was a prediction of health risk levels in different pregnant women using the IoT risk monitoring system. The main purpose of my analysis was to show relationships between the data results and the predictions made my the IoT risk monitoring system.\n",
    "\n",
    "However, conclusions drawn from the analysis in this project should not be relied on heavily as it is merely an observation obtained from the exploring the dataset. A much more larger scale of analysis must be conducted before making reliable and trusted conclusions about the dataset."
   ]
  },
  {
   "cell_type": "markdown",
   "id": "683e69aa",
   "metadata": {},
   "source": [
    "### 5.4 Data processing pipeline\n",
    "The analysis in this project shows how I have collected, modified, cleaned and used the dataset step-by-step. The data can be readily viewed through commands such as \"df\". Hence, no anonymity is involved."
   ]
  },
  {
   "cell_type": "markdown",
   "id": "6e2c8c96",
   "metadata": {},
   "source": [
    "### 5.5 Biases in dataset\n",
    "The dataset was the collection of vital sign measurements in pregnant women during their respective pregnancies. These women are from Dhaka, Bangladesh. These measurements were then assessed by a IoT risk monitoring system to predict health risks in each of these women. Although there were errors in data collection as addressed above in the analysis, the results from this dataset do not have any potential biases. All women in the dataset are from the same city and predictions were made through IoT. Hence there are no biases being considered in the dataset."
   ]
  },
  {
   "cell_type": "markdown",
   "id": "de4e1442",
   "metadata": {},
   "source": [
    "# References\n",
    "\n",
    "[1] GATES foundation (2021). Maternal Mortality. Available from https://www.gatesfoundation.org/goalkeepers/report/2021-report/progress-indicators/maternal-mortality/\n",
    "\n",
    "[2] Charlotte. (2021). Maternal Health Risk. [Online] Kaggle. Available from https://www.kaggle.com/datasets/csafrit2/maternal-health-risk-data?select=Maternal+Health+Risk+Data+Set.csv\n",
    "\n",
    "[3] Sohel Rana (2021). Mothers' Significant Feature (MSF) Dataset - 2021. [Online] Kaggle. Available from https://www.kaggle.com/datasets/sohelranaccselab/mother-significant-feature-dataset\n",
    "\n",
    "[4] The ObG Project (March 2020). Vital signs in pregnancy: Defining Normal Ranges. Available from https://www.obgproject.com/2020/03/17/vital-signs-in-pregnancy-defining-normal-ranges/\n",
    "\n",
    "[5] BetterHealth Channel (May 2018). Pregnancy stages and changes. Available from https://www.betterhealth.vic.gov.au/health/healthyliving/pregnancy-stages-and-changes#pregnancy-stages\n",
    "\n",
    "[6] DiGiacinto and Seladi-Schulman (Janurary 2022). Normal vs. Dangerous Heart Rate: How to Tell the Difference. [Online] Healthline Media. Available from: https://www.healthline.com/health/dangerous-heart-rate\n",
    "\n",
    "[7] Kaggle. Available from: https://www.kaggle.com/\n",
    "\n"
   ]
  },
  {
   "cell_type": "code",
   "execution_count": 140,
   "id": "7766008c",
   "metadata": {},
   "outputs": [
    {
     "data": {
      "text/html": [
       "<details>\n",
       "<summary>Click to view session information</summary>\n",
       "<pre>\n",
       "-----\n",
       "matplotlib          3.4.3\n",
       "numpy               1.20.3\n",
       "pandas              1.3.4\n",
       "seaborn             0.11.2\n",
       "session_info        1.0.0\n",
       "-----\n",
       "</pre>\n",
       "<details>\n",
       "<summary>Click to view modules imported as dependencies</summary>\n",
       "<pre>\n",
       "CoreFoundation              NA\n",
       "Foundation                  NA\n",
       "PIL                         8.4.0\n",
       "PyObjCTools                 NA\n",
       "anyio                       NA\n",
       "appnope                     0.1.2\n",
       "attr                        21.2.0\n",
       "babel                       2.9.1\n",
       "backcall                    0.2.0\n",
       "beta_ufunc                  NA\n",
       "binom_ufunc                 NA\n",
       "bottleneck                  1.3.2\n",
       "brotli                      NA\n",
       "certifi                     2021.10.08\n",
       "cffi                        1.14.6\n",
       "chardet                     4.0.0\n",
       "charset_normalizer          2.0.4\n",
       "colorama                    0.4.4\n",
       "cycler                      0.10.0\n",
       "cython_runtime              NA\n",
       "dateutil                    2.8.2\n",
       "debugpy                     1.4.1\n",
       "decorator                   5.1.0\n",
       "defusedxml                  0.7.1\n",
       "entrypoints                 0.3\n",
       "idna                        3.2\n",
       "ipykernel                   6.4.1\n",
       "ipython_genutils            0.2.0\n",
       "ipywidgets                  7.6.5\n",
       "jedi                        0.18.0\n",
       "jinja2                      2.11.3\n",
       "json5                       NA\n",
       "jsonschema                  3.2.0\n",
       "jupyter_server              1.4.1\n",
       "jupyterlab_server           2.8.2\n",
       "kiwisolver                  1.3.1\n",
       "markupsafe                  1.1.1\n",
       "matplotlib_inline           NA\n",
       "mkl                         2.4.0\n",
       "mpl_toolkits                NA\n",
       "nbclassic                   NA\n",
       "nbformat                    5.1.3\n",
       "nbinom_ufunc                NA\n",
       "numexpr                     2.7.3\n",
       "objc                        8.5b1\n",
       "packaging                   21.0\n",
       "parso                       0.8.2\n",
       "pexpect                     4.8.0\n",
       "pickleshare                 0.7.5\n",
       "pkg_resources               NA\n",
       "prometheus_client           NA\n",
       "prompt_toolkit              3.0.20\n",
       "ptyprocess                  0.7.0\n",
       "pvectorc                    NA\n",
       "pydev_ipython               NA\n",
       "pydevconsole                NA\n",
       "pydevd                      2.4.1\n",
       "pydevd_concurrency_analyser NA\n",
       "pydevd_file_utils           NA\n",
       "pydevd_plugins              NA\n",
       "pydevd_tracing              NA\n",
       "pyexpat                     NA\n",
       "pygments                    2.10.0\n",
       "pyparsing                   3.0.4\n",
       "pyrsistent                  NA\n",
       "pytz                        2021.3\n",
       "requests                    2.26.0\n",
       "scipy                       1.7.1\n",
       "send2trash                  NA\n",
       "six                         1.16.0\n",
       "sniffio                     1.2.0\n",
       "socks                       1.7.1\n",
       "sphinxcontrib               NA\n",
       "statsmodels                 0.12.2\n",
       "storemagic                  NA\n",
       "tornado                     6.1\n",
       "traitlets                   5.1.0\n",
       "urllib3                     1.26.7\n",
       "wcwidth                     0.2.5\n",
       "zmq                         22.2.1\n",
       "zope                        NA\n",
       "</pre>\n",
       "</details> <!-- seems like this ends pre, so might as well be explicit -->\n",
       "<pre>\n",
       "-----\n",
       "IPython             7.29.0\n",
       "jupyter_client      6.1.12\n",
       "jupyter_core        4.8.1\n",
       "jupyterlab          3.2.1\n",
       "notebook            6.4.5\n",
       "-----\n",
       "Python 3.9.7 (default, Sep 16 2021, 08:50:36) [Clang 10.0.0 ]\n",
       "macOS-10.16-x86_64-i386-64bit\n",
       "-----\n",
       "Session information updated at 2022-06-27 16:44\n",
       "</pre>\n",
       "</details>"
      ],
      "text/plain": [
       "<IPython.core.display.HTML object>"
      ]
     },
     "execution_count": 140,
     "metadata": {},
     "output_type": "execute_result"
    }
   ],
   "source": [
    "import session_info\n",
    "\n",
    "session_info.show()"
   ]
  }
 ],
 "metadata": {
  "kernelspec": {
   "display_name": "Python 3 (ipykernel)",
   "language": "python",
   "name": "python3"
  },
  "language_info": {
   "codemirror_mode": {
    "name": "ipython",
    "version": 3
   },
   "file_extension": ".py",
   "mimetype": "text/x-python",
   "name": "python",
   "nbconvert_exporter": "python",
   "pygments_lexer": "ipython3",
   "version": "3.9.7"
  }
 },
 "nbformat": 4,
 "nbformat_minor": 5
}
